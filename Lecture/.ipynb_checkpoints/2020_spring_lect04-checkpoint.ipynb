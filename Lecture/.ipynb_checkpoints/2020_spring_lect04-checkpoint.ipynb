{
 "cells": [
  {
   "cell_type": "markdown",
   "metadata": {},
   "source": [
    "# Lecture 04  \n",
    "### Python Performance Tuning   \n",
    "### February 18, 2020    \n"
   ]
  },
  {
   "cell_type": "markdown",
   "metadata": {},
   "source": [
    "- More about code profiling\n",
    "- More about code tunning\n",
    "\n",
    "https://nyu-cds.github.io/python-performance-tuning/\n"
   ]
  },
  {
   "cell_type": "markdown",
   "metadata": {},
   "source": [
    "### More about code profile: the %prun magic command\n",
    "\n",
    "Install line_profiler before using prun:\n",
    "\n",
    "```\n",
    "pip install line_profiler\n",
    "\n",
    "conda install -c anaconda line_profiler\n",
    "```"
   ]
  },
  {
   "cell_type": "markdown",
   "metadata": {},
   "source": [
    "### Monte Carlo Simultations for $\\pi$ \n",
    "\n",
    "Suppose we want to approximate $\\pi$ by using the following Monte Carlo simulations based on the geometric probability:\n",
    "\n",
    "--- \n",
    "\n",
    "Plot the $1/4$-of the unit circle: $(x, \\sqrt{1 - x^2})$ over the segment $[0, 1]$."
   ]
  },
  {
   "cell_type": "code",
   "execution_count": 1,
   "metadata": {},
   "outputs": [
    {
     "data": {
      "text/plain": [
       "<Figure size 640x480 with 1 Axes>"
      ]
     },
     "metadata": {},
     "output_type": "display_data"
    }
   ],
   "source": [
    "import matplotlib.pyplot as plt\n",
    "import numpy as np\n",
    "\n",
    "# plot a quarter of the unit circle\n",
    "x = np.linspace(0, 1.0, 100)\n",
    "plt.plot(x, (1 - x ** 2) ** 0.5)\n",
    "\n",
    "plt.xlim(0, 1)\n",
    "plt.ylim(0, 1)\n",
    "plt.show()"
   ]
  },
  {
   "cell_type": "code",
   "execution_count": 2,
   "metadata": {},
   "outputs": [
    {
     "data": {
      "image/png": "[encoded data removed]",
      "text/plain": [
       "<Figure size 432x288 with 1 Axes>"
      ]
     },
     "metadata": {
      "needs_background": "light"
     },
     "output_type": "display_data"
    }
   ],
   "source": [
    "#plot random points\n",
    "\n",
    "number_of_points = 300\n",
    "plt.plot(np.random.random(number_of_points), np.random.random(number_of_points), 'ro')\n",
    "\n",
    "# plot a quarter of the unit circle\n",
    "x = np.linspace(0, 1.0, 100)\n",
    "plt.plot(x, np.sqrt(1 - x ** 2))\n",
    "\n",
    "plt.xlim(0, 1)\n",
    "plt.ylim(0, 1)\n",
    "plt.show()"
   ]
  },
  {
   "cell_type": "markdown",
   "metadata": {},
   "source": [
    "### Prob(a ranodm point belongs to the 1/4-unit-circle) = Area(1/4-unit-circle)/Area(unit-square) = Pi/4"
   ]
  },
  {
   "cell_type": "code",
   "execution_count": 3,
   "metadata": {},
   "outputs": [],
   "source": [
    "import random\n",
    "    \n",
    "def inside_quarter_circle(x, y):\n",
    "    \"\"\"indicator that (x,y) belongs to the quarter of the circle\"\"\"\n",
    "    return int(x ** 2 + y ** 2 <= 1.0)\n",
    "\n",
    "def approx_pi_mc(number_of_points):\n",
    "    \"\"\"monte-carlo PI\"\"\"\n",
    "    \n",
    "    counter = 0\n",
    "    \n",
    "    for i in range(number_of_points):\n",
    "        x = random.random()\n",
    "        y = random.random()\n",
    "        counter += inside_quarter_circle(x, y)\n",
    "        \n",
    "    pi_approx = 4 * counter / number_of_points \n",
    "    print(\"pi_approx:\", pi_approx)\n",
    "    return pi_approx"
   ]
  },
  {
   "cell_type": "code",
   "execution_count": 4,
   "metadata": {
    "scrolled": true
   },
   "outputs": [
    {
     "name": "stdout",
     "output_type": "stream",
     "text": [
      "pi_approx: 3.141664\n",
      "         3000065 function calls in 1.309 seconds\n",
      "\n",
      "   Ordered by: standard name\n",
      "\n",
      "   ncalls  tottime  percall  cumtime  percall filename:lineno(function)\n",
      "  1000000    0.519    0.000    0.519    0.000 <ipython-input-3-4915ae4bb254>:3(inside_quarter_circle)\n",
      "        1    0.627    0.627    1.309    1.309 <ipython-input-3-4915ae4bb254>:7(approx_pi_mc)\n",
      "        1    0.000    0.000    1.309    1.309 <string>:1(<module>)\n",
      "        5    0.000    0.000    0.000    0.000 iostream.py:195(schedule)\n",
      "        4    0.000    0.000    0.000    0.000 iostream.py:307(_is_master_process)\n",
      "        4    0.000    0.000    0.000    0.000 iostream.py:320(_schedule_flush)\n",
      "        4    0.000    0.000    0.000    0.000 iostream.py:382(write)\n",
      "        5    0.000    0.000    0.000    0.000 iostream.py:93(_event_pipe)\n",
      "        5    0.000    0.000    0.000    0.000 socket.py:337(send)\n",
      "        5    0.000    0.000    0.000    0.000 threading.py:1038(_wait_for_tstate_lock)\n",
      "        5    0.000    0.000    0.000    0.000 threading.py:1080(is_alive)\n",
      "        5    0.000    0.000    0.000    0.000 threading.py:507(is_set)\n",
      "        1    0.000    0.000    1.309    1.309 {built-in method builtins.exec}\n",
      "        4    0.000    0.000    0.000    0.000 {built-in method builtins.isinstance}\n",
      "        1    0.000    0.000    0.000    0.000 {built-in method builtins.print}\n",
      "        4    0.000    0.000    0.000    0.000 {built-in method posix.getpid}\n",
      "        5    0.000    0.000    0.000    0.000 {method 'acquire' of '_thread.lock' objects}\n",
      "        5    0.000    0.000    0.000    0.000 {method 'append' of 'collections.deque' objects}\n",
      "        1    0.000    0.000    0.000    0.000 {method 'disable' of '_lsprof.Profiler' objects}\n",
      "  2000000    0.164    0.000    0.164    0.000 {method 'random' of '_random.Random' objects}\n",
      "\n",
      "\n"
     ]
    }
   ],
   "source": [
    "# cProfile and profile provide deterministic profiling\n",
    "import cProfile\n",
    "cProfile.run('approx_pi_mc(1_000_000)')\n",
    "#1.309 for 3M calls in there\n",
    "#tottime: total time for each function\n",
    "#percall: percentage of the run time\n",
    "#1.309 is for total time for approx time, out of which 0.519 is for inside_quarter_circle"
   ]
  },
  {
   "cell_type": "code",
   "execution_count": 6,
   "metadata": {},
   "outputs": [
    {
     "name": "stdout",
     "output_type": "stream",
     "text": [
      "pi_approx: 3.141896\n",
      " "
     ]
    }
   ],
   "source": [
    "#run a code with the profiler\n",
    "%prun approx_pi_mc(1_000_000)"
   ]
  },
  {
   "cell_type": "markdown",
   "metadata": {},
   "source": [
    "The first line of the profile contains the number of CPU seconds it took to run the code. You should see that the code was a little slower with %prun. This was because it ran inside the cProfile module.\n",
    "\n",
    "Looking at the tottime column, we can see that approximately $2/3$ of the time is spent in __approx\\_pi__ and the remainder is spent in __inside\\_quarter\\_circle__."
   ]
  },
  {
   "cell_type": "markdown",
   "metadata": {},
   "source": [
    "Sometimes the cause of the hotspot is a single line in a function, which may not be obvious from reading the source code or analyzing the output of cProfile.\n",
    "\n",
    "The __line_profiler__ times the execution of each individual line inside a function. The __line_profiler__ can be used by loading in Jupyer as:"
   ]
  },
  {
   "cell_type": "code",
   "execution_count": 7,
   "metadata": {},
   "outputs": [],
   "source": [
    "%load_ext line_profiler"
   ]
  },
  {
   "cell_type": "code",
   "execution_count": 8,
   "metadata": {},
   "outputs": [
    {
     "name": "stdout",
     "output_type": "stream",
     "text": [
      "pi_approx: 3.142636\n"
     ]
    }
   ],
   "source": [
    "# run code with the line-by-line profiler\n",
    "%lprun -f approx_pi_mc approx_pi_mc(1_000_000)\n",
    "\n",
    "#-f : force reset without asking for confirmation"
   ]
  },
  {
   "cell_type": "markdown",
   "metadata": {},
   "source": [
    "run time for each line of the code <br>\n",
    "line profile"
   ]
  },
  {
   "cell_type": "raw",
   "metadata": {},
   "source": [
    "Timer unit: 1e-06 s\n",
    "\n",
    "Total time: 3.03918 s\n",
    "File: <ipython-input-3-4915ae4bb254>\n",
    "Function: approx_pi_mc at line 7\n",
    "\n",
    "Line #      Hits         Time  Per Hit   % Time  Line Contents\n",
    "\n",
    "     7                                           def approx_pi_mc(number_of_points):\n",
    "     8                                               \"\"\"monte-carlo PI\"\"\"\n",
    "     9                                               \n",
    "    10         1          5.0      5.0      0.0      counter = 0\n",
    "    11                                               \n",
    "    12   1000001     453233.0      0.5     14.9      for i in range(number_of_points):\n",
    "    13   1000000     565358.0      0.6     18.6          x = random.random()\n",
    "    14   1000000     482788.0      0.5     15.9          y = random.random()\n",
    "    15   1000000    1537569.0      1.5     50.6          counter += inside_quarter_circle(x, y)\n",
    "    16                                                   \n",
    "    17         1          2.0      2.0      0.0      pi_approx = 4 * counter / number_of_points \n",
    "    18         1        223.0    223.0      0.0      print(\"pi_approx:\", pi_approx)\n",
    "    19         1          0.0      0.0      0.0      return pi_approx"
   ]
  },
  {
   "cell_type": "code",
   "execution_count": 9,
   "metadata": {},
   "outputs": [],
   "source": [
    "def approx_pi_mc_faster(total_number):\n",
    "    \n",
    "    # generate a vector of random points [0, 1)\n",
    "    random_vect = np.random.rand(total_number, 2)\n",
    "    \n",
    "    # check if points belong to the circle\n",
    "    bool_inside = random_vect[:, 0] ** 2 + random_vect[:, 1] ** 2 <= 1\n",
    "    \n",
    "    # count those\n",
    "    # counter = sum(bool_inside)\n",
    "    counter = np.sum(bool_inside, dtype=np.int32)\n",
    "    \n",
    "    pi_approx = 4 * counter / total_number \n",
    "    print(\"pi_approx:\", pi_approx)\n",
    "    return pi_approx"
   ]
  },
  {
   "cell_type": "code",
   "execution_count": 10,
   "metadata": {},
   "outputs": [
    {
     "name": "stdout",
     "output_type": "stream",
     "text": [
      "pi_approx: 3.13928\n"
     ]
    }
   ],
   "source": [
    "#%prun approx_pi_mc_faster(1_000_000)\n",
    "\n",
    "%lprun -f approx_pi_mc_faster approx_pi_mc_faster(1_000_000)\n"
   ]
  },
  {
   "cell_type": "raw",
   "metadata": {},
   "source": [
    "Timer unit: 1e-06 s\n",
    "\n",
    "Total time: 0.08542 s\n",
    "File: <ipython-input-9-8c51e85e712b>\n",
    "Function: approx_pi_mc_faster at line 1\n",
    "\n",
    "Line #      Hits         Time  Per Hit   % Time  Line Contents\n",
    "     1                                           def approx_pi_mc_faster(total_number):\n",
    "     2                                               \n",
    "     3                                               # generate a vector of random points\n",
    "     4         1      48788.0  48788.0     57.1      random_vect = np.random.rand(total_number, 2)\n",
    "     5                                               \n",
    "     6                                               # check if points belong to the circle\n",
    "     7         1      31504.0  31504.0     36.9      bool_inside = random_vect[:, 0] ** 2 + random_vect[:, 1] ** 2 <= 1\n",
    "     8                                               \n",
    "     9                                               # count those\n",
    "    10                                               # counter = sum(bool_inside)\n",
    "    11         1       2682.0   2682.0      3.1      counter = np.sum(bool_inside, dtype=np.int32)\n",
    "    12                                               \n",
    "    13         1       1344.0   1344.0      1.6      pi_approx = 4 * counter / total_number \n",
    "    14         1       1100.0   1100.0      1.3      print(\"pi_approx:\", pi_approx)\n",
    "    15         1          2.0      2.0      0.0      return pi_approxm"
   ]
  },
  {
   "cell_type": "markdown",
   "metadata": {},
   "source": [
    "## Performance Tuning -- Line Profiling  \n",
    "\n",
    "#### Example: Heat Equation\n",
    "\n",
    "#### How does the heat transfer?   \n",
    "\n",
    "#### Finite Element Methods\n"
   ]
  },
  {
   "cell_type": "markdown",
   "metadata": {},
   "source": [
    "Consider a function (concretely temperature) $f = f(x, y, t)$ which depends on $(x,y) \\in [0,1] \\times [0,1]$ and time $t \\geq 0$. \n",
    "\n",
    "Temperature satisfies the __heat equation__:\n",
    "$$\n",
    "\\frac{\\partial f}{\\partial t} = \\alpha^2 \\left(\\frac{\\partial^2 f}{ \\partial x^2} + \\frac{\\partial^2 f}{ \\partial y^2} \\right) \\,.\n",
    "$$\n",
    "\n",
    "The rate at which the temperature changes $\\frac{\\partial f}{\\partial t}$ is proportional to the \n",
    "Laplacian of the temperature function $\\left(\\frac{\\partial^2 f}{ \\partial x^2} + \\frac{\\partial^2 f}{ \\partial y^2} \\right)$.\n",
    "\n",
    "In steady state $\\partial f/\\partial t = 0$, so (the __Poisson equation__ the temp does not change over time):\n",
    "$$\n",
    "\\frac{\\partial^2 f}{\\partial x^2}+\\frac{\\partial^2 f}{\\partial y^2}=0.\n",
    "$$\n",
    "\n",
    "By using central difference in a square $[0,1]\\times[0,1]$ regular grid:\n",
    "$$\n",
    "\\frac{\\partial^2 f}{\\partial x^2}\\approx\\frac{f_{i+1,j}-2f_{i,j}+f_{i-1,j}}{\\Delta x^2}\\,,\n",
    "$$\n",
    "\n",
    "$$\n",
    "\\frac{\\partial^2 f}{\\partial y^2}\\approx\\frac{f_{i,j+1}-2f_{i,j}+f_{i,j-1}}{\\Delta y^2}\\,.\n",
    "$$\n",
    "Instead of looking at the whole area, we look at each 1 by 1 small square <br>\n",
    "We will assume $\\Delta x = \\Delta y$, so it follows:\n",
    "$$\n",
    "f_{i,j} = \\frac{f_{i+1,j}+f_{i-1,j} + f_{i,j+1} + f_{i,j-1}}{4} \\,.\n",
    "$$\n",
    "\n",
    "We will also assume that $f$ is known on the boundary of the square domain.\n",
    "\n",
    "\n",
    "\n",
    "\n",
    "\n",
    "\n"
   ]
  },
  {
   "cell_type": "code",
   "execution_count": 30,
   "metadata": {},
   "outputs": [
    {
     "data": {
      "text/plain": [
       "array([[1., 1.]])"
      ]
     },
     "execution_count": 30,
     "metadata": {},
     "output_type": "execute_result"
    }
   ],
   "source": [
    "np.ones((1, 2)).shape\n",
    "np.ones((1, 2))"
   ]
  },
  {
   "cell_type": "code",
   "execution_count": 34,
   "metadata": {},
   "outputs": [],
   "source": [
    "from itertools import product\n",
    "import numpy as np\n",
    "\n",
    "def build_grid(n):\n",
    "    '''defines the grid'''\n",
    "    G = np.zeros((n, n))\n",
    "    return G\n",
    "\n",
    "def set_boundary_grid(G):\n",
    "    '''set the boundary values'''\n",
    "    n = G.shape[0]\n",
    "    G[:, 0]  = np.ones((1, n))\n",
    "    G[0, :]  = np.ones((1, n)) \n",
    "    G[-1, :] = np.ones((1, n))\n",
    "    G[:, -1] = np.ones((1, n))\n",
    "    "
   ]
  },
  {
   "cell_type": "code",
   "execution_count": 35,
   "metadata": {},
   "outputs": [],
   "source": [
    "import matplotlib.pyplot as plt\n",
    "\n",
    "def plot_grid(G):\n",
    "    img = plt.imshow(G)\n",
    "    img.set_cmap('rainbow')\n",
    "    plt.axis('off')\n",
    "    plt.show()\n",
    "    "
   ]
  },
  {
   "cell_type": "code",
   "execution_count": null,
   "metadata": {},
   "outputs": [],
   "source": [
    "plt.imshow()"
   ]
  },
  {
   "cell_type": "code",
   "execution_count": 48,
   "metadata": {},
   "outputs": [
    {
     "name": "stdout",
     "output_type": "stream",
     "text": [
      "[[0. 0. 0. ... 0. 0. 0.]\n",
      " [0. 0. 0. ... 0. 0. 0.]\n",
      " [0. 0. 0. ... 0. 0. 0.]\n",
      " ...\n",
      " [0. 0. 0. ... 0. 0. 0.]\n",
      " [0. 0. 0. ... 0. 0. 0.]\n",
      " [0. 0. 0. ... 0. 0. 0.]]\n",
      "\n",
      " [[1. 1. 1. ... 1. 1. 1.]\n",
      " [1. 0. 0. ... 0. 0. 1.]\n",
      " [1. 0. 0. ... 0. 0. 1.]\n",
      " ...\n",
      " [1. 0. 0. ... 0. 0. 1.]\n",
      " [1. 0. 0. ... 0. 0. 1.]\n",
      " [1. 1. 1. ... 1. 1. 1.]]\n"
     ]
    },
    {
     "data": {
      "image/png": "[encoded data removed]",
      "text/plain": [
       "<Figure size 432x288 with 1 Axes>"
      ]
     },
     "metadata": {
      "needs_background": "light"
     },
     "output_type": "display_data"
    }
   ],
   "source": [
    "size_of_grid = 100\n",
    "\n",
    "G = build_grid(n=size_of_grid)\n",
    "print(G)\n",
    "set_boundary_grid(G)\n",
    "print('\\n',G)\n",
    "plot_grid(G)    "
   ]
  },
  {
   "cell_type": "code",
   "execution_count": 65,
   "metadata": {},
   "outputs": [],
   "source": [
    "# using two-loops\n",
    "def iteration_loops(G): \n",
    "    n = G.shape[0] #number of rows\n",
    "    for i in range(1, n-1):\n",
    "        for j in range(1, n-1):\n",
    "            # calculate the average for four points around the ij\n",
    "            #we will update the values once at a time, comlexity is n^2 time t\n",
    "            G[i, j] = (G[i + 1, j] + G[i - 1, j] + G[i, j + 1] + G[i, j - 1]) / 4    \n",
    "\n",
    "\n",
    "# using iterators to traverse the grid\n",
    "#reduce the loops of two into one\n",
    "def iteration_gen(G):\n",
    "    n = G.shape[0]\n",
    "    indices = product(range(1, n-1), repeat=2)\n",
    "    for e in indices:\n",
    "        G[e]=(G[e[0] + 1, e[1]] + G[e[0] - 1, e[1]] + G[e[0], e[1] + 1] + G[e[0], e[1] - 1])/4\n",
    "    "
   ]
  },
  {
   "cell_type": "code",
   "execution_count": 57,
   "metadata": {},
   "outputs": [
    {
     "data": {
      "text/plain": [
       "[(1, 1), (1, 2), (2, 1), (2, 2)]"
      ]
     },
     "execution_count": 57,
     "metadata": {},
     "output_type": "execute_result"
    }
   ],
   "source": [
    "list(product(range(1, 3), repeat=2))"
   ]
  },
  {
   "cell_type": "code",
   "execution_count": 64,
   "metadata": {},
   "outputs": [],
   "source": [
    "# auxiliary functions:\n",
    "\n",
    "# calculate error between G1 and G2, the change is the same from previous step to current\n",
    "# where we calculate the difference between G_ij with 1/4(4 points around)\n",
    "# which means they are in the steady state\n",
    "#we sum up all the errors and normalized them over n^2 (total number of points)\n",
    "def calc_error(G1, G2):\n",
    "    error = 0\n",
    "    n = G1.shape[0]\n",
    "    for i in range(n):\n",
    "        for j in range(n):\n",
    "            error += (G1[i, j] - G2[i, j]) ** 2    \n",
    "    # normalize the error\n",
    "    return error / n**2\n",
    "\n",
    "\n",
    "# using numpy built-in functions to compute the error\n",
    "#faster than the function above\n",
    "def calc_error_np(G1, G2):\n",
    "    error = np.square(np.subtract(G1, G2)).mean()\n",
    "    return(error)\n",
    "\n",
    "\n",
    "# deep copy of G1 to G2\n",
    "def copy_array(G1, G2):\n",
    "    G2[:, :] = G1[:, :]\n"
   ]
  },
  {
   "cell_type": "code",
   "execution_count": 41,
   "metadata": {},
   "outputs": [],
   "source": [
    "def solve_heat_equation1(n):\n",
    "    #build the grid with 1 on all the boundaries and 0 inside\n",
    "    G = build_grid(n) \n",
    "    set_boundary_grid(G)\n",
    "    \n",
    "    #BULD GRID WITH all zeros\n",
    "    G_prev = build_grid(n)\n",
    "    ## deep copy of G1 to G2 #def copy_array(G1, G2):\n",
    "    copy_array(G, G_prev)\n",
    "\n",
    "    error = np.float(\"inf\")\n",
    "    while error > 1e-7:\n",
    "        iteration_loops(G) #update values with points around\n",
    "        error = calc_error(G, G_prev)\n",
    "        copy_array(G, G_prev)         \n",
    "    return G"
   ]
  },
  {
   "cell_type": "code",
   "execution_count": 44,
   "metadata": {},
   "outputs": [
    {
     "data": {
      "text/plain": [
       "array([[1.        , 1.        , 1.        , ..., 1.        , 1.        ,\n",
       "        1.        ],\n",
       "       [1.        , 0.99931521, 0.99863204, ..., 0.99866586, 0.99933291,\n",
       "        1.        ],\n",
       "       [1.        , 0.99863204, 0.99726728, ..., 0.99733483, 0.99866739,\n",
       "        1.        ],\n",
       "       ...,\n",
       "       [1.        , 0.99866586, 0.99733483, ..., 0.99740523, 0.99870261,\n",
       "        1.        ],\n",
       "       [1.        , 0.99933291, 0.99866739, ..., 0.99870261, 0.99935131,\n",
       "        1.        ],\n",
       "       [1.        , 1.        , 1.        , ..., 1.        , 1.        ,\n",
       "        1.        ]])"
      ]
     },
     "execution_count": 44,
     "metadata": {},
     "output_type": "execute_result"
    }
   ],
   "source": [
    "solve_heat_equation1(size_of_grid) #100"
   ]
  },
  {
   "cell_type": "code",
   "execution_count": 58,
   "metadata": {},
   "outputs": [],
   "source": [
    "%lprun -f solve_heat_equation1 G1 = solve_heat_equation1(size_of_grid)"
   ]
  },
  {
   "cell_type": "markdown",
   "metadata": {},
   "source": [
    "Timer unit: 1e-06 s\n",
    "\n",
    "Total time: 34.2538 s"
   ]
  },
  {
   "cell_type": "code",
   "execution_count": 43,
   "metadata": {},
   "outputs": [
    {
     "data": {
      "image/png": "[encoded data removed]",
      "text/plain": [
       "<Figure size 432x288 with 1 Axes>"
      ]
     },
     "metadata": {
      "needs_background": "light"
     },
     "output_type": "display_data"
    }
   ],
   "source": [
    "plot_grid(G1)"
   ]
  },
  {
   "cell_type": "code",
   "execution_count": 59,
   "metadata": {},
   "outputs": [],
   "source": [
    "def solve_heat_equation2(n):\n",
    "    '''changing to calc_error_np function'''\n",
    "    G = build_grid(n)\n",
    "    set_boundary_grid(G)\n",
    "    \n",
    "    G_prev = build_grid(n)\n",
    "    copy_array(G, G_prev)\n",
    "    \n",
    "    error = np.float(\"inf\")\n",
    "    while error > 1e-7:\n",
    "        iteration_loops(G)\n",
    "        #change to the second version of calc_error using np\n",
    "        error = calc_error_np(G,G_prev) \n",
    "        copy_array(G,G_prev)    \n",
    "        \n",
    "    return(G)"
   ]
  },
  {
   "cell_type": "code",
   "execution_count": 60,
   "metadata": {},
   "outputs": [],
   "source": [
    "%lprun -f solve_heat_equation2 G2 = solve_heat_equation2(size_of_grid)"
   ]
  },
  {
   "cell_type": "markdown",
   "metadata": {},
   "source": [
    "Timer unit: 1e-06 s\n",
    "\n",
    "Total time: 22.4586 s"
   ]
  },
  {
   "cell_type": "code",
   "execution_count": 21,
   "metadata": {},
   "outputs": [
    {
     "data": {
      "image/png": "[encoded data removed]",
      "text/plain": [
       "<Figure size 432x288 with 1 Axes>"
      ]
     },
     "metadata": {
      "needs_background": "light"
     },
     "output_type": "display_data"
    }
   ],
   "source": [
    "plot_grid(G2)"
   ]
  },
  {
   "cell_type": "code",
   "execution_count": 71,
   "metadata": {},
   "outputs": [],
   "source": [
    "def solve_heat_equation3(n):\n",
    "    '''changing to iteration_gen function'''\n",
    "    G = build_grid(n)\n",
    "    set_boundary_grid(G)\n",
    "    \n",
    "    G_prev = build_grid(n)\n",
    "    copy_array(G, G_prev)\n",
    "    \n",
    "    error = np.float(\"inf\")\n",
    "    while error > 1e-7:\n",
    "        #change the interation gen\n",
    "        iteration_gen(G)\n",
    "        error = calc_error(G,G_prev) \n",
    "        copy_array(G, G_prev)    \n",
    "        \n",
    "    return(G)"
   ]
  },
  {
   "cell_type": "code",
   "execution_count": 72,
   "metadata": {},
   "outputs": [],
   "source": [
    "%lprun -f solve_heat_equation3 G3 = solve_heat_equation3(size_of_grid)"
   ]
  },
  {
   "cell_type": "markdown",
   "metadata": {},
   "source": [
    "Timer unit: 1e-06 s\n",
    "\n",
    "Total time: 38.2757 s"
   ]
  },
  {
   "cell_type": "code",
   "execution_count": 24,
   "metadata": {},
   "outputs": [
    {
     "data": {
      "image/png": "[encoded data removed]",
      "text/plain": [
       "<Figure size 432x288 with 1 Axes>"
      ]
     },
     "metadata": {
      "needs_background": "light"
     },
     "output_type": "display_data"
    }
   ],
   "source": [
    "plot_grid(G3)"
   ]
  },
  {
   "cell_type": "code",
   "execution_count": 69,
   "metadata": {},
   "outputs": [],
   "source": [
    "def solve_heat_equation4(n):\n",
    "    '''changing to both calc_error_np and iteration_gen functions'''\n",
    "    G = build_grid(n)\n",
    "    set_boundary_grid(G)\n",
    "    \n",
    "    G_prev = build_grid(n)\n",
    "    copy_array(G, G_prev)\n",
    "    \n",
    "    error = np.float(\"inf\")\n",
    "    while error > 1e-7:\n",
    "        iteration_gen(G)\n",
    "        error = calc_error_np(G, G_prev) \n",
    "        copy_array(G, G_prev)          \n",
    "    return(G)"
   ]
  },
  {
   "cell_type": "code",
   "execution_count": 70,
   "metadata": {},
   "outputs": [],
   "source": [
    "%lprun -f solve_heat_equation4 G4 = solve_heat_equation4(size_of_grid)"
   ]
  },
  {
   "cell_type": "markdown",
   "metadata": {},
   "source": [
    "Timer unit: 1e-06 s\n",
    "\n",
    "Total time: 25.1983 s"
   ]
  },
  {
   "cell_type": "code",
   "execution_count": 27,
   "metadata": {},
   "outputs": [
    {
     "data": {
      "image/png": "[encoded data removed]",
      "text/plain": [
       "<Figure size 432x288 with 1 Axes>"
      ]
     },
     "metadata": {
      "needs_background": "light"
     },
     "output_type": "display_data"
    }
   ],
   "source": [
    "plot_grid(G4)"
   ]
  },
  {
   "cell_type": "code",
   "execution_count": null,
   "metadata": {},
   "outputs": [],
   "source": []
  },
  {
   "cell_type": "code",
   "execution_count": null,
   "metadata": {},
   "outputs": [],
   "source": []
  },
  {
   "cell_type": "code",
   "execution_count": null,
   "metadata": {},
   "outputs": [],
   "source": []
  },
  {
   "cell_type": "code",
   "execution_count": null,
   "metadata": {},
   "outputs": [],
   "source": []
  }
 ],
 "metadata": {
  "kernelspec": {
   "display_name": "Python 3",
   "language": "python",
   "name": "python3"
  },
  "language_info": {
   "codemirror_mode": {
    "name": "ipython",
    "version": 3
   },
   "file_extension": ".py",
   "mimetype": "text/x-python",
   "name": "python",
   "nbconvert_exporter": "python",
   "pygments_lexer": "ipython3",
   "version": "3.7.3"
  }
 },
 "nbformat": 4,
 "nbformat_minor": 4
}
