{
 "cells": [
  {
   "cell_type": "markdown",
   "metadata": {},
   "source": [
    "## Homework 05:\n",
    "\n",
    "## Due Date: Mar 09, 2020, 10:00am\n",
    "\n",
    "#### Firstname Lastname: Yunya Wang\n",
    "\n",
    "#### E-mail: yw4509@nyu.edu\n",
    "\n",
    "#### Enter your solutions and submit this notebook"
   ]
  },
  {
   "cell_type": "markdown",
   "metadata": {},
   "source": [
    "---\n",
    "\n",
    "### Part of Lecture 04\n",
    "\n",
    "---"
   ]
  },
  {
   "cell_type": "code",
   "execution_count": 4,
   "metadata": {},
   "outputs": [],
   "source": [
    "from itertools import product\n",
    "import numpy as np\n",
    "import matplotlib.pyplot as plt\n",
    "import math\n",
    "\n",
    "def build_grid(n):\n",
    "    '''defines the grid'''\n",
    "    G = np.zeros((n, n))\n",
    "    return G\n",
    "\n",
    "# def set_boundary_grid(G):\n",
    "#     '''set the boundary values'''\n",
    "#     n = G.shape[0]\n",
    "#     G[:, 0]  = np.ones((1, n))\n",
    "#     G[0, : ] = np.ones((1, n)) \n",
    "#     G[-1, :] = np.ones((1, n))\n",
    "#     G[:, -1] = np.ones((1, n))\n",
    "    \n",
    "# in this assignment we will consider real matrices;\n",
    "# hence we use the following function instead\n",
    "# to assign the boundary values for G\n",
    "def set_boundary_grid(G):\n",
    "    '''set the boundary values'''\n",
    "    n = G.shape[0]\n",
    "    G[:,  0] = [1.0] * n\n",
    "    G[0,  :] = [1.0] * n\n",
    "    G[-1, :] = [1.0] * n\n",
    "    G[:, -1] = [1.0] * n \n",
    "\n",
    "def plot_grid(G):\n",
    "    img = plt.imshow(G)\n",
    "    img.set_cmap('rainbow')\n",
    "    plt.axis('off')\n",
    "    plt.show()\n",
    "\n",
    "# using iterators to traverse the grid\n",
    "def iteration_gen(G):\n",
    "    n = G.shape[0]\n",
    "    indices = product(range(1, n-1), repeat=2)\n",
    "    for e in indices:\n",
    "        G[e]=(G[e[0] + 1, e[1]] + G[e[0] - 1, e[1]] + G[e[0], e[1] + 1] + G[e[0], e[1] - 1])/4\n",
    "    \n",
    "\n",
    "# using numpy built-in functions to compute the error\n",
    "def calc_error_np(G1, G2):\n",
    "    error = np.square(np.subtract(G1, G2)).mean()\n",
    "    return(error)\n",
    "\n",
    "# deep copy of G1 to G2\n",
    "def copy_array(G1, G2):\n",
    "    G2[:, :] = G1[:, :]\n",
    "\n",
    "    \n",
    "def solve_heat_equation4(n):\n",
    "    '''changing to both calc_error_np and iteration_gen functions'''\n",
    "    G = build_grid(n)\n",
    "    set_boundary_grid(G)\n",
    "    \n",
    "    G_prev = build_grid(n)\n",
    "    copy_array(G, G_prev)\n",
    "    \n",
    "    error = np.float(\"inf\")\n",
    "    while error > 1e-7:\n",
    "        iteration_gen(G)\n",
    "        error = calc_error_np(G, G_prev) \n",
    "        copy_array(G, G_prev)          \n",
    "    return(G)"
   ]
  },
  {
   "cell_type": "code",
   "execution_count": 5,
   "metadata": {},
   "outputs": [
    {
     "data": {
      "image/png": "[encoded data removed]",
      "text/plain": [
       "<Figure size 432x288 with 1 Axes>"
      ]
     },
     "metadata": {
      "needs_background": "light"
     },
     "output_type": "display_data"
    }
   ],
   "source": [
    "size_of_grid = 100\n",
    "G = build_grid(n=size_of_grid)\n",
    "set_boundary_grid(G)\n",
    "plot_grid(G) "
   ]
  },
  {
   "cell_type": "code",
   "execution_count": 6,
   "metadata": {},
   "outputs": [
    {
     "name": "stdout",
     "output_type": "stream",
     "text": [
      "The line_profiler extension is already loaded. To reload it, use:\n",
      "  %reload_ext line_profiler\n"
     ]
    }
   ],
   "source": [
    "%load_ext line_profiler\n",
    "%lprun -f solve_heat_equation4 G4 = solve_heat_equation4(size_of_grid)"
   ]
  },
  {
   "cell_type": "code",
   "execution_count": 7,
   "metadata": {},
   "outputs": [
    {
     "data": {
      "image/png": "[encoded data removed]",
      "text/plain": [
       "<Figure size 432x288 with 1 Axes>"
      ]
     },
     "metadata": {
      "needs_background": "light"
     },
     "output_type": "display_data"
    }
   ],
   "source": [
    "plot_grid(G4)"
   ]
  },
  {
   "cell_type": "markdown",
   "metadata": {},
   "source": [
    "\n",
    "---"
   ]
  },
  {
   "cell_type": "markdown",
   "metadata": {},
   "source": [
    "# Problem 1. (100 points)\n",
    "\n",
    "\n",
    "In Lecture 04 we considered the heat equation over a homogeneous material for which an iteration is given by the following equation:\n",
    "$$\n",
    "f_{i,j} = \\frac{f_{i+1,j}+f_{i-1,j} + f_{i,j+1} + f_{i,j-1}}{4} \\,.\n",
    "$$\n",
    "\n",
    "This was implemented by: \n",
    "```\n",
    "# using iterators to traverse the grid\n",
    "def iteration_gen(G):\n",
    "\"\"\"the iteration function from lect04\"\"\"\n",
    "    n = G.shape[0]\n",
    "    indices = product(range(1, n-1), repeat=2)\n",
    "    for e in indices:\n",
    "        G[e]=(G[e[0] + 1, e[1]] + G[e[0] - 1, e[1]] + G[e[0], e[1] + 1] + G[e[0], e[1] - 1])/4\n",
    "```\n",
    "\n",
    "\n",
    "----\n",
    "\n",
    "Now imagine, you are given a non-homogeneous material for which the iteration, i.e. the corresponding equation,  depends on the position $(i, j)$ and is given by:\n",
    "$$\n",
    "f_{i,j} := \\frac{ h_{i + 1,j} f_{i + 1, j} + h_{i - 1,j} f_{i - 1,j} + h_{i,j + 1} f_{i,j+1} + h_{i,j - 1} f_{i,j-1}}{ h_{i + 1,j} + h_{i - 1,j} + h_{i,j + 1} + h_{i,j - 1} } \\,.\n",
    "$$\n",
    "Here \"weight\"\n",
    "$$h(i, j) = \\exp\\left(-\\frac{|i - j|} {\\sqrt{n}}\\right) \\,,$$\n",
    "corresponds to the point $(i, j)$, where $n$ is the size of the grid.\n",
    "\n",
    "----\n",
    "\n",
    "Write a new function:\n",
    "```\n",
    "def iteration_gen_nonhomogeneous(G):\n",
    "    \"\"\"the iteration function in hw05\"\"\"\n",
    "```\n",
    "to solve the non-homogeneous case defined as above. \n",
    "\n",
    "\n",
    "The task here is to examine run-time improvements that can be obtained by Cython for this non-homogeneous material. Consider **solve_heat_equation4** from Lect04, which now becomes.\n",
    "\n",
    "```\n",
    "def solve_heat_nonhomogeneous_equation4(n):\n",
    "    '''changing to both calc_error_np and iteration_gen functions'''\n",
    "    G = build_grid(n)\n",
    "    set_boundary_grid(G)\n",
    "    \n",
    "    G_prev = build_grid(n)\n",
    "    copy_array(G, G_prev)\n",
    "    \n",
    "    error = np.float(\"inf\")\n",
    "    while error > 1e-7:\n",
    "        iteration_gen_nonhomogeneous(G)\n",
    "        error = calc_error_np(G, G_prev) \n",
    "        copy_array(G, G_prev)          \n",
    "    return(G)\n",
    "```\n",
    "\n",
    "----\n",
    "\n",
    "Concretely, as presented in Lect05, perform the following steps and measure their run-times:\n",
    "\n",
    "(i) simply compile the python code with Cython, without any changes;\n",
    "\n",
    "\n",
    "(ii) introduce variables and arrays with ctypes (by using the command cdef);  \n",
    "\n",
    "\n",
    "(iii) besides (ii), also use the content of ndarray objects in order to efficiently access the data buffer of the arrays.\n",
    "\n",
    "---\n",
    "\n",
    "In the sequel of the notebook, as your solution, submit codes, run-times, and plots of the following tasks:\n",
    "\n",
    "**2.1 (30pt)** solve_heat_nonhomogeneous_equation4(100)\n",
    "\n",
    "**2.2 (10pt)** solve_heat_nonhomogeneous_equation4(100) when applied (i)  \n",
    "\n",
    "**2.3 (30pt)** solve_heat_nonhomogeneous_equation4(100) when applied (ii)  \n",
    "\n",
    "**2.4 (30pt)** solve_heat_nonhomogeneous_equation4(100) when applied (iii)  \n",
    "\n",
    "Notice that to obtain a best performance for the heat equation you also need to apply (i), (ii), (iii) to the functions called within \"solve_heat_equation4\".\n"
   ]
  },
  {
   "cell_type": "code",
   "execution_count": 8,
   "metadata": {},
   "outputs": [],
   "source": [
    "%load_ext Cython"
   ]
  },
  {
   "cell_type": "code",
   "execution_count": 9,
   "metadata": {
    "scrolled": false
   },
   "outputs": [
    {
     "name": "stdout",
     "output_type": "stream",
     "text": [
      "The line_profiler extension is already loaded. To reload it, use:\n",
      "  %reload_ext line_profiler\n"
     ]
    }
   ],
   "source": [
    "%load_ext line_profiler"
   ]
  },
  {
   "cell_type": "code",
   "execution_count": 10,
   "metadata": {},
   "outputs": [],
   "source": [
    "size_of_grid = 100"
   ]
  },
  {
   "cell_type": "markdown",
   "metadata": {},
   "source": [
    "### Part 1: solve_heat_equation4(100)"
   ]
  },
  {
   "cell_type": "code",
   "execution_count": 86,
   "metadata": {},
   "outputs": [],
   "source": [
    "def iteration_gen_nonhomogeneous(G): \n",
    "    n = G.shape[0]\n",
    "    def h(i,j,n): return math.exp(-abs(i-j)/n**0.5)\n",
    "    indices = product(range(1, n-1), repeat=2)\n",
    "    for e in indices:\n",
    "        h_1 = h(e[0]+1,e[1],n)\n",
    "        h_2 = h(e[0]-1,e[1],n)\n",
    "        h_3 = h(e[0],e[1]+1,n)\n",
    "        h_4 = h(e[0],e[1]-1,n)\n",
    "\n",
    "        sumh=  h_1+h_2+h_3+h_4                                                                                \n",
    "        G[e] =(G[e[0]+1,e[1]]*h_1+\n",
    "               G[e[0]-1,e[1]]*h_2+\n",
    "               G[e[0],e[1]+1]*h_3+\n",
    "               G[e[0],e[1]-1]*h_4)/sumh"
   ]
  },
  {
   "cell_type": "code",
   "execution_count": 87,
   "metadata": {},
   "outputs": [],
   "source": [
    "def solve_heat_nonhomogenous_equation4(n):\n",
    "    '''changing to both calc_error_np and iteration_gen functions'''\n",
    "    G = build_grid(n)\n",
    "    set_boundary_grid(G)\n",
    "\n",
    "    G_prev = build_grid(n)\n",
    "    copy_array(G, G_prev)\n",
    "\n",
    "    error = np.float(\"inf\")\n",
    "    while error > 1e-7:\n",
    "        iteration_gen_nonhomogeneous(G)\n",
    "        error = calc_error_np(G, G_prev) \n",
    "        copy_array(G, G_prev)          \n",
    "    return(G)"
   ]
  },
  {
   "cell_type": "code",
   "execution_count": 88,
   "metadata": {},
   "outputs": [
    {
     "data": {
      "image/png": "[encoded data removed]",
      "text/plain": [
       "<Figure size 432x288 with 1 Axes>"
      ]
     },
     "metadata": {
      "needs_background": "light"
     },
     "output_type": "display_data"
    }
   ],
   "source": [
    "%lprun -f solve_heat_nonhomogenous_equation4 G = solve_heat_nonhomogenous_equation4(size_of_grid)\n",
    "plot_grid(G)"
   ]
  },
  {
   "cell_type": "raw",
   "metadata": {},
   "source": [
    "### HERE COPY-PASTE THE OUTPUT FROM LINE-PROFILER:\n",
    "Timer unit: 1e-06 s\n",
    "\n",
    "Total time: 39.6305 s\n",
    "File: <ipython-input-87-ca2598ad46c5>\n",
    "Function: solve_heat_nonhomogenous_equation4 at line 1\n",
    "\n",
    "Line #      Hits         Time  Per Hit   % Time  Line Contents\n",
    "==============================================================\n",
    "     1                                           def solve_heat_nonhomogenous_equation4(n):\n",
    "     2                                               '''changing to both calc_error_np and iteration_gen functions'''\n",
    "     3         1         30.0     30.0      0.0      G = build_grid(n)\n",
    "     4         1         55.0     55.0      0.0      set_boundary_grid(G)\n",
    "     5                                           \n",
    "     6         1       1293.0   1293.0      0.0      G_prev = build_grid(n)\n",
    "     7         1         35.0     35.0      0.0      copy_array(G, G_prev)\n",
    "     8                                           \n",
    "     9         1          5.0      5.0      0.0      error = np.float(\"inf\")\n",
    "    10       310        643.0      2.1      0.0      while error > 1e-7:\n",
    "    11       309   39566322.0 128046.3     99.8          iteration_gen_nonhomogeneous(G)\n",
    "    12       309      55724.0    180.3      0.1          error = calc_error_np(G, G_prev) \n",
    "    13       309       6434.0     20.8      0.0          copy_array(G, G_prev)          \n",
    "    14         1          0.0      0.0      0.0      return(G)"
   ]
  },
  {
   "cell_type": "raw",
   "metadata": {},
   "source": []
  },
  {
   "cell_type": "markdown",
   "metadata": {},
   "source": [
    "### Part 2: solve_heat_equation4(100) after applying (i)\n"
   ]
  },
  {
   "cell_type": "code",
   "execution_count": 77,
   "metadata": {},
   "outputs": [
    {
     "name": "stdout",
     "output_type": "stream",
     "text": [
      "The Cython extension is already loaded. To reload it, use:\n",
      "  %reload_ext Cython\n"
     ]
    }
   ],
   "source": [
    "%load_ext Cython"
   ]
  },
  {
   "cell_type": "code",
   "execution_count": 94,
   "metadata": {},
   "outputs": [],
   "source": [
    "%%cython\n",
    "# cython: linetrace=True\n",
    "# cython: binding=True\n",
    "# distutils: define_macros=CYTHON_TRACE_NOGIL=1\n",
    "# cython: profile=True\n",
    "\n",
    "from itertools import product\n",
    "import numpy as np\n",
    "import matplotlib.pyplot as plt\n",
    "import math\n",
    "\n",
    "size_of_grid = 100\n",
    "\n",
    "def build_grid(n):\n",
    "    '''defines the grid'''\n",
    "    G = np.zeros((n, n))\n",
    "    return G\n",
    "    \n",
    "# in this assignment we will consider real matrices;\n",
    "# hence we use the following function instead\n",
    "# to assign the boundary values for G\n",
    "def set_boundary_grid(G):\n",
    "    '''set the boundary values'''\n",
    "    n = G.shape[0]\n",
    "    G[:,  0] = [1.0] * n\n",
    "    G[0,  :] = [1.0] * n\n",
    "    G[-1, :] = [1.0] * n\n",
    "    G[:, -1] = [1.0] * n \n",
    "\n",
    "def plot_grid(G):\n",
    "    img = plt.imshow(G)\n",
    "    img.set_cmap('rainbow')\n",
    "    plt.axis('off')\n",
    "    plt.show()\n",
    "\n",
    "# using iterators to traverse the grid\n",
    "def iteration_gen_nonhomogeneous(G): \n",
    "    n = G.shape[0]\n",
    "    def h(i,j,n): return math.exp(-abs(i-j)/n**0.5)\n",
    "    indices = product(range(1, n-1), repeat=2)\n",
    "    for e in indices:\n",
    "        h_1 = h(e[0]+1,e[1],n)\n",
    "        h_2 = h(e[0]-1,e[1],n)\n",
    "        h_3 = h(e[0],e[1]+1,n)\n",
    "        h_4 = h(e[0],e[1]-1,n)\n",
    "\n",
    "        sumh=  h_1+h_2+h_3+h_4                                                                                \n",
    "        G[e] =(G[e[0]+1,e[1]]*h_1+\n",
    "               G[e[0]-1,e[1]]*h_2+\n",
    "               G[e[0],e[1]+1]*h_3+\n",
    "               G[e[0],e[1]-1]*h_4)/sumh\n",
    "    \n",
    "\n",
    "# using numpy built-in functions to compute the error\n",
    "def calc_error_np(G1, G2):\n",
    "    error = np.square(np.subtract(G1, G2)).mean()\n",
    "    return(error)\n",
    "\n",
    "# deep copy of G1 to G2\n",
    "def copy_array(G1, G2):\n",
    "    G2[:, :] = G1[:, :]\n",
    "\n",
    "def solve_heat_nonhomogenous_equation4(n):\n",
    "    '''changing to both calc_error_np and iteration_gen functions'''\n",
    "    G = build_grid(n)\n",
    "    set_boundary_grid(G)\n",
    "\n",
    "    G_prev = build_grid(n)\n",
    "    copy_array(G, G_prev)\n",
    "\n",
    "    error = np.float(\"inf\")\n",
    "    while error > 1e-7:\n",
    "        iteration_gen_nonhomogeneous(G)\n",
    "        error = calc_error_np(G, G_prev) \n",
    "        copy_array(G, G_prev)          \n",
    "    return(G)"
   ]
  },
  {
   "cell_type": "code",
   "execution_count": 95,
   "metadata": {},
   "outputs": [
    {
     "data": {
      "image/png": "[encoded data removed]",
      "text/plain": [
       "<Figure size 432x288 with 1 Axes>"
      ]
     },
     "metadata": {
      "needs_background": "light"
     },
     "output_type": "display_data"
    }
   ],
   "source": [
    "%lprun -f solve_heat_nonhomogenous_equation4 G = solve_heat_nonhomogenous_equation4(size_of_grid)\n",
    "plot_grid(G)"
   ]
  },
  {
   "cell_type": "raw",
   "metadata": {},
   "source": [
    "### HERE COPY-PASTE THE OUTPUT FROM LINE-PROFILER:\n",
    "Timer unit: 1e-06 s\n",
    "\n",
    "Total time: 19.7756 s\n",
    "File: /Users/yunya/.ipython/cython/_cython_magic_05ad016e9512ca199909de803b91d985.pyx\n",
    "Function: solve_heat_nonhomogenous_equation4 at line 62\n",
    "\n",
    "Line #      Hits         Time  Per Hit   % Time  Line Contents\n",
    "==============================================================\n",
    "    62                                           def solve_heat_nonhomogenous_equation4(n):\n",
    "    63                                               '''changing to both calc_error_np and iteration_gen functions'''\n",
    "    64         1         70.0     70.0      0.0      G = build_grid(n)\n",
    "    65         1         65.0     65.0      0.0      set_boundary_grid(G)\n",
    "    66                                           \n",
    "    67         1         46.0     46.0      0.0      G_prev = build_grid(n)\n",
    "    68         1         23.0     23.0      0.0      copy_array(G, G_prev)\n",
    "    69                                           \n",
    "    70         1          6.0      6.0      0.0      error = np.float(\"inf\")\n",
    "    71         1          0.0      0.0      0.0      while error > 1e-7:\n",
    "    72       309   19720183.0  63819.4     99.7          iteration_gen_nonhomogeneous(G)\n",
    "    73       309      49197.0    159.2      0.2          error = calc_error_np(G, G_prev) \n",
    "    74       309       5991.0     19.4      0.0          copy_array(G, G_prev)          \n",
    "    75         1          3.0      3.0      0.0      return(G)"
   ]
  },
  {
   "cell_type": "raw",
   "metadata": {},
   "source": []
  },
  {
   "cell_type": "markdown",
   "metadata": {},
   "source": [
    "### Part 3: solve_heat_equation4(100) after applying (ii)"
   ]
  },
  {
   "cell_type": "code",
   "execution_count": 42,
   "metadata": {},
   "outputs": [],
   "source": [
    "%%cython\n",
    "# cython: linetrace=True\n",
    "# cython: binding=True\n",
    "# distutils: define_macros=CYTHON_TRACE_NOGIL=1\n",
    "# cython: profile=True\n",
    "\n",
    "from itertools import product\n",
    "import numpy as np\n",
    "import matplotlib.pyplot as plt\n",
    "import math\n",
    "\n",
    "cimport numpy as np\n",
    "\n",
    "cdef int size_of_grid = 100\n",
    "\n",
    "def build_grid(int n):\n",
    "    '''defines the grid'''\n",
    "    cdef np.ndarray G = np.zeros((n, n),dtype=float)\n",
    "    return G\n",
    "    \n",
    "# in this assignment we will consider real matrices;\n",
    "# hence we use the following function instead\n",
    "# to assign the boundary values for G\n",
    "def set_boundary_grid(np.ndarray G):\n",
    "    '''set the boundary values'''\n",
    "    cdef int n = G.shape[0]\n",
    "    G[:,  0] = [1.0] * n\n",
    "    G[0,  :] = [1.0] * n\n",
    "    G[-1, :] = [1.0] * n\n",
    "    G[:, -1] = [1.0] * n \n",
    "\n",
    "def plot_grid(np.ndarray G):\n",
    "    img = plt.imshow(G)\n",
    "    img.set_cmap('rainbow')\n",
    "    plt.axis('off')\n",
    "    plt.show()\n",
    "\n",
    "# using iterators to traverse the grid\n",
    "def iteration_gen_nonhomogeneous(np.ndarray G): \n",
    "    cdef int n = G.shape[0]\n",
    "    cdef (int,int) e\n",
    "    cdef double sumh\n",
    "    cdef double h_1\n",
    "    cdef double h_2\n",
    "    cdef double h_3\n",
    "    cdef double h_4\n",
    "    \n",
    "    def h(int i,int j,int n): return math.exp(-abs(i-j)/n**0.5)\n",
    "    indices = product(range(1, n-1), repeat=2)\n",
    "    for e in indices:\n",
    "        h_1 = h(e[0]+1,e[1],n)\n",
    "        h_2 = h(e[0]-1,e[1],n)\n",
    "        h_3 = h(e[0],e[1]+1,n)\n",
    "        h_4 = h(e[0],e[1]-1,n)\n",
    "\n",
    "        sumh=  h_1+h_2+h_3+h_4                                                                                \n",
    "        G[e] =(G[e[0]+1,e[1]]*h_1+\n",
    "               G[e[0]-1,e[1]]*h_2+\n",
    "               G[e[0],e[1]+1]*h_3+\n",
    "               G[e[0],e[1]-1]*h_4)/sumh\n",
    "    \n",
    "\n",
    "# using numpy built-in functions to compute the error\n",
    "def calc_error_np(np.ndarray G1, np.ndarray G2):\n",
    "    cdef double error\n",
    "    error = np.square(np.subtract(G1, G2)).mean()\n",
    "    return(error)\n",
    "\n",
    "# deep copy of G1 to G2\n",
    "def copy_array(np.ndarray G1, np.ndarray G2):\n",
    "    G2[:, :] = G1[:, :]\n",
    "\n",
    "def solve_heat_nonhomogenous_equation4(int n):\n",
    "    '''changing to both calc_error_np and iteration_gen functions'''\n",
    "    cdef double error\n",
    "    \n",
    "    cdef np.ndarray G = build_grid(n)\n",
    "    set_boundary_grid(G)\n",
    "\n",
    "    cdef np.ndarray G_prev = build_grid(n)\n",
    "    copy_array(G, G_prev)\n",
    "\n",
    "    error = np.float(\"inf\")\n",
    "    while error > 1e-7:\n",
    "        iteration_gen_nonhomogeneous(G)\n",
    "        error = calc_error_np(G, G_prev) \n",
    "        copy_array(G, G_prev)          \n",
    "    return(G)"
   ]
  },
  {
   "cell_type": "code",
   "execution_count": 43,
   "metadata": {},
   "outputs": [
    {
     "data": {
      "image/png": "[encoded data removed]",
      "text/plain": [
       "<Figure size 432x288 with 1 Axes>"
      ]
     },
     "metadata": {
      "needs_background": "light"
     },
     "output_type": "display_data"
    }
   ],
   "source": [
    "%lprun -f solve_heat_nonhomogenous_equation4 G = solve_heat_nonhomogenous_equation4(size_of_grid)\n",
    "plot_grid(G)"
   ]
  },
  {
   "cell_type": "raw",
   "metadata": {},
   "source": [
    "### HERE COPY-PASTE THE OUTPUT FROM LINE-PROFILER:\n",
    "Timer unit: 1e-06 s\n",
    "\n",
    "Total time: 15.3506 s\n",
    "File: /Users/yunya/.ipython/cython/_cython_magic_fd5ced45630accf3615c15082d62d920.pyx\n",
    "Function: solve_heat_nonhomogenous_equation4 at line 72\n",
    "\n",
    "Line #      Hits         Time  Per Hit   % Time  Line Contents\n",
    "==============================================================\n",
    "    72                                           def solve_heat_nonhomogenous_equation4(int n):\n",
    "    73                                               '''changing to both calc_error_np and iteration_gen functions'''\n",
    "    74                                               cdef float error\n",
    "    75                                               \n",
    "    76         1         84.0     84.0      0.0      cdef np.ndarray G = build_grid(n)\n",
    "    77         1         77.0     77.0      0.0      set_boundary_grid(G)\n",
    "    78                                           \n",
    "    79         1        114.0    114.0      0.0      cdef np.ndarray G_prev = build_grid(n)\n",
    "    80         1         30.0     30.0      0.0      copy_array(G, G_prev)\n",
    "    81                                           \n",
    "    82         1          9.0      9.0      0.0      error = np.float(\"inf\")\n",
    "    83         1          1.0      1.0      0.0      while error > 1e-7:\n",
    "    84       309   15311107.0  49550.5     99.7          iteration_gen_nonhomogeneous(G)\n",
    "    85       309      34228.0    110.8      0.2          error = calc_error_np(G, G_prev) \n",
    "    86       309       4897.0     15.8      0.0          copy_array(G, G_prev)          \n",
    "    87         1          3.0      3.0      0.0      return(G)"
   ]
  },
  {
   "cell_type": "raw",
   "metadata": {},
   "source": []
  },
  {
   "cell_type": "markdown",
   "metadata": {},
   "source": [
    "### Part 4: solve_heat_equation4(100) after applying (iii)"
   ]
  },
  {
   "cell_type": "code",
   "execution_count": 14,
   "metadata": {},
   "outputs": [],
   "source": [
    "%reload_ext Cython"
   ]
  },
  {
   "cell_type": "code",
   "execution_count": 36,
   "metadata": {},
   "outputs": [],
   "source": [
    "%%cython\n",
    "# cython: linetrace=True\n",
    "# cython: binding=True\n",
    "# distutils: define_macros=CYTHON_TRACE_NOGIL=1\n",
    "# cython: profile=True\n",
    "\n",
    "from itertools import product\n",
    "import numpy as np\n",
    "import matplotlib.pyplot as plt\n",
    "import math\n",
    "\n",
    "cimport numpy as np\n",
    "\n",
    "cdef int size_of_grid = 100\n",
    "\n",
    "def build_grid(int n):\n",
    "    '''defines the grid'''\n",
    "    cdef np.ndarray[double, ndim=2] G = np.zeros([n, n],dtype=float)\n",
    "    return G\n",
    "    \n",
    "# in this assignment we will consider real matrices;\n",
    "# hence we use the following function instead\n",
    "# to assign the boundary values for G\n",
    "def set_boundary_grid(np.ndarray[double, ndim=2] G):\n",
    "    '''set the boundary values'''\n",
    "    cdef int n = G.shape[0]\n",
    "    G[:,  0] = [1.0] * n\n",
    "    G[0,  :] = [1.0] * n\n",
    "    G[-1, :] = [1.0] * n\n",
    "    G[:, -1] = [1.0] * n \n",
    "\n",
    "def plot_grid(np.ndarray[double, ndim=2] G):\n",
    "    img = plt.imshow(G)\n",
    "    img.set_cmap('rainbow')\n",
    "    plt.axis('off')\n",
    "    plt.show()\n",
    "\n",
    "# using iterators to traverse the grid\n",
    "def iteration_gen_nonhomogeneous(np.ndarray[double, ndim=2] G): \n",
    "    cdef int n = G.shape[0]\n",
    "    cdef (int,int) e\n",
    "    cdef double sumh\n",
    "    cdef double h_1\n",
    "    cdef double h_2\n",
    "    cdef double h_3\n",
    "    cdef double h_4\n",
    "    \n",
    "    def h(int i,int j,int n): return math.exp(-abs(i-j)/math.sqrt(n))\n",
    "    indices = product(range(1, n-1), repeat=2)\n",
    "    for e in indices:\n",
    "        h_1 = h(e[0]+1,e[1],n)\n",
    "        h_2 = h(e[0]-1,e[1],n)\n",
    "        h_3 = h(e[0],e[1]+1,n)\n",
    "        h_4 = h(e[0],e[1]-1,n)\n",
    "\n",
    "        sumh=  h_1+h_2+h_3+h_4                                                                                \n",
    "        G[e] =(G[e[0]+1,e[1]]*h_1+\n",
    "               G[e[0]-1,e[1]]*h_2+\n",
    "               G[e[0],e[1]+1]*h_3+\n",
    "               G[e[0],e[1]-1]*h_4)/sumh\n",
    "    \n",
    "\n",
    "# using numpy built-in functions to compute the error\n",
    "def calc_error_np(np.ndarray[double, ndim=2] G1, np.ndarray[double, ndim=2] G2):\n",
    "    cdef double error\n",
    "    error = np.square(np.subtract(G1, G2)).mean()\n",
    "    return(error)\n",
    "\n",
    "# deep copy of G1 to G2\n",
    "def copy_array(np.ndarray[double, ndim=2] G1, np.ndarray[double, ndim=2] G2):\n",
    "    G2[:, :] = G1[:, :]\n",
    "\n",
    "def solve_heat_nonhomogenous_equation4(int n):\n",
    "    '''changing to both calc_error_np and iteration_gen functions'''\n",
    "    cdef double error\n",
    "    \n",
    "    cdef np.ndarray[double, ndim=2] G = build_grid(n)\n",
    "    set_boundary_grid(G)\n",
    "\n",
    "    cdef np.ndarray[double, ndim=2] G_prev = build_grid(n)\n",
    "    copy_array(G, G_prev)\n",
    "\n",
    "    error = np.float(\"inf\")\n",
    "    while error > 1e-7:\n",
    "        iteration_gen_nonhomogeneous(G)\n",
    "        error = calc_error_np(G, G_prev) \n",
    "        copy_array(G, G_prev)          \n",
    "    return(G)"
   ]
  },
  {
   "cell_type": "code",
   "execution_count": 38,
   "metadata": {},
   "outputs": [
    {
     "data": {
      "image/png": "[encoded data removed]",
      "text/plain": [
       "<Figure size 432x288 with 1 Axes>"
      ]
     },
     "metadata": {
      "needs_background": "light"
     },
     "output_type": "display_data"
    }
   ],
   "source": [
    "%lprun -f solve_heat_nonhomogenous_equation4 G = solve_heat_nonhomogenous_equation4(size_of_grid)\n",
    "plot_grid(G)"
   ]
  },
  {
   "cell_type": "raw",
   "metadata": {},
   "source": [
    "### HERE COPY-PASTE THE OUTPUT FROM LINE-PROFILER:\n",
    "Timer unit: 1e-06 s\n",
    "\n",
    "Total time: 8.8431 s\n",
    "File: /Users/yunya/.ipython/cython/_cython_magic_12aa9a5a8e527376ad2c7b72d08c5f27.pyx\n",
    "Function: solve_heat_nonhomogenous_equation4 at line 72\n",
    "\n",
    "Line #      Hits         Time  Per Hit   % Time  Line Contents\n",
    "==============================================================\n",
    "    72                                           def solve_heat_nonhomogenous_equation4(int n):\n",
    "    73                                               '''changing to both calc_error_np and iteration_gen functions'''\n",
    "    74                                               cdef double error\n",
    "    75                                               \n",
    "    76         1        223.0    223.0      0.0      cdef np.ndarray[double, ndim=2] G = build_grid(n)\n",
    "    77         1         58.0     58.0      0.0      set_boundary_grid(G)\n",
    "    78                                           \n",
    "    79         1        221.0    221.0      0.0      cdef np.ndarray[double, ndim=2] G_prev = build_grid(n)\n",
    "    80         1         65.0     65.0      0.0      copy_array(G, G_prev)\n",
    "    81                                           \n",
    "    82         1          5.0      5.0      0.0      error = np.float(\"inf\")\n",
    "    83         1          1.0      1.0      0.0      while error > 1e-7:\n",
    "    84       309    8786493.0  28435.3     99.4          iteration_gen_nonhomogeneous(G)\n",
    "    85       309      48142.0    155.8      0.5          error = calc_error_np(G, G_prev) \n",
    "    86       309       7890.0     25.5      0.1          copy_array(G, G_prev)          \n",
    "    87         1          5.0      5.0      0.0      return(G)"
   ]
  },
  {
   "cell_type": "raw",
   "metadata": {},
   "source": []
  }
 ],
 "metadata": {
  "kernelspec": {
   "display_name": "Python 3",
   "language": "python",
   "name": "python3"
  },
  "language_info": {
   "codemirror_mode": {
    "name": "ipython",
    "version": 3
   },
   "file_extension": ".py",
   "mimetype": "text/x-python",
   "name": "python",
   "nbconvert_exporter": "python",
   "pygments_lexer": "ipython3",
   "version": "3.7.3"
  },
  "toc": {
   "base_numbering": 1,
   "nav_menu": {},
   "number_sections": true,
   "sideBar": true,
   "skip_h1_title": false,
   "title_cell": "Table of Contents",
   "title_sidebar": "Contents",
   "toc_cell": false,
   "toc_position": {},
   "toc_section_display": true,
   "toc_window_display": false
  },
  "varInspector": {
   "cols": {
    "lenName": 16,
    "lenType": 16,
    "lenVar": 40
   },
   "kernels_config": {
    "python": {
     "delete_cmd_postfix": "",
     "delete_cmd_prefix": "del ",
     "library": "var_list.py",
     "varRefreshCmd": "print(var_dic_list())"
    },
    "r": {
     "delete_cmd_postfix": ") ",
     "delete_cmd_prefix": "rm(",
     "library": "var_list.r",
     "varRefreshCmd": "cat(var_dic_list()) "
    }
   },
   "types_to_exclude": [
    "module",
    "function",
    "builtin_function_or_method",
    "instance",
    "_Feature"
   ],
   "window_display": false
  }
 },
 "nbformat": 4,
 "nbformat_minor": 2
}
