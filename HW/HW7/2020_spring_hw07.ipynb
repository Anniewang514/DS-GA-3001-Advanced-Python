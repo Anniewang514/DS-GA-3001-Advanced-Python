{
 "cells": [
  {
   "cell_type": "markdown",
   "metadata": {},
   "source": [
    "### Homework 07: Concurrency\n",
    "\n",
    "## Due Date: Apr 13, 2020, 08:00am\n",
    "\n",
    "#### Firstname Lastname: Yunya Wang\n",
    "\n",
    "#### E-mail: yw4509@nyu.edu\n",
    "\n",
    "#### Enter your solutions and submit this notebook\n"
   ]
  },
  {
   "cell_type": "markdown",
   "metadata": {},
   "source": [
    "---\n",
    "\n",
    "**Problem 1** **(60 Points)**\n",
    "\n",
    "Let us consider the Gamma function, or the Euler integral of the second kind: \n",
    "\n",
    "$$\\Gamma(x) = \\int_{0} ^ \\infty t ^{x - 1} e^{-t} dt, $$\n",
    "\n",
    "and in this HW we consider real $x > 0$."
   ]
  },
  {
   "cell_type": "markdown",
   "metadata": {},
   "source": [
    "(Here is more on the Gamma function https://en.wikipedia.org/wiki/Gamma_function .\n",
    "It is not needed for this HW assignment.) "
   ]
  },
  {
   "cell_type": "markdown",
   "metadata": {},
   "source": [
    "**1.1 (Points 15)**: \n",
    "\n",
    "Write a function (in the cell below) that sequentially calculates the given Gamma integral.\n"
   ]
  },
  {
   "cell_type": "code",
   "execution_count": 111,
   "metadata": {},
   "outputs": [],
   "source": [
    "import numpy as np\n",
    "import math\n",
    "import time"
   ]
  },
  {
   "cell_type": "code",
   "execution_count": 2,
   "metadata": {},
   "outputs": [],
   "source": [
    "def calculate_gamma(x, bound_1, bound_2, number_of_steps):\n",
    "    # sequential version to calculate Gamma(x):\n",
    "    # where we approximate the given integral,\n",
    "    # like this a discrete sum in number_of_steps\n",
    "    # equidistant points on the interval [bound_1, bound_2]\n",
    "    area=0\n",
    "    step = (bound_2-bound_1)/number_of_steps\n",
    "    bound = np.arange(bound_1,bound_2+step,step)\n",
    "    for i in range(len(bound)-1):\n",
    "        value1 = (bound[i]**(x-1))*math.exp(-bound[i])\n",
    "        value2 = (bound[i+1]**(x-1))*math.exp(-bound[i+1])\n",
    "        if value2>=value1:\n",
    "            height=value1\n",
    "        height = value2\n",
    "        area+=height*step\n",
    "    return area"
   ]
  },
  {
   "cell_type": "markdown",
   "metadata": {},
   "source": [
    "**1.2 (Points 5)** \n",
    "\n",
    "Evaluate, $\\Gamma(6)$ by using `calculate_gamma(x, bound_1, bound_2, number_of_steps)` and the error of this computation.\n",
    "\n",
    "\n",
    "As arguments, use `x=6, bound_1=0, bound_2=1000, number_of_steps=10_000_000`. We know that $\\Gamma(x) = x!$, so $\\Gamma(6) = 5! = 120$. \n"
   ]
  },
  {
   "cell_type": "code",
   "execution_count": 3,
   "metadata": {},
   "outputs": [
    {
     "name": "stdout",
     "output_type": "stream",
     "text": [
      "Result is 119.99999999994274, Finished in time 38.0628 seconds\n"
     ]
    }
   ],
   "source": [
    "st = time.time()\n",
    "approx = calculate_gamma(6, 0, 1000, 10_000_000)\n",
    "et = time.time()\n",
    "print(f'Result is {approx}, Finished in time {(et-st):0.4f} seconds')"
   ]
  },
  {
   "cell_type": "code",
   "execution_count": 4,
   "metadata": {},
   "outputs": [
    {
     "name": "stdout",
     "output_type": "stream",
     "text": [
      "error is -5.725553364754887e-11\n"
     ]
    }
   ],
   "source": [
    "error = approx - 120\n",
    "print(f'error is {error}')"
   ]
  },
  {
   "cell_type": "markdown",
   "metadata": {},
   "source": [
    "---\n",
    "\n",
    "Write two functions to calculate $\\Gamma(x)$ by using:\n",
    "\n",
    "\n",
    "\n",
    "**1.3.1 (Points 15)**\n",
    "**threading** with N=4 threads; \n",
    "\n",
    "**1.3.2 (Points 15)**\n",
    "**multiprocessing** with N=4 processes. \n",
    "\n",
    "\n",
    "**1.3.3 (Points 10)** \n",
    "Compare the times of the three versions and write a short explanation of what you are observing.\n",
    "\n",
    "How does the answer change when N=8 and why?\n",
    "\n",
    "    "
   ]
  },
  {
   "cell_type": "code",
   "execution_count": 112,
   "metadata": {},
   "outputs": [
    {
     "name": "stdout",
     "output_type": "stream",
     "text": [
      "number of CPU cores: 4\n"
     ]
    }
   ],
   "source": [
    "from multiprocessing import cpu_count\n",
    "print('number of CPU cores:', cpu_count())"
   ]
  },
  {
   "cell_type": "markdown",
   "metadata": {},
   "source": [
    "## 1.3.1"
   ]
  },
  {
   "cell_type": "code",
   "execution_count": 113,
   "metadata": {},
   "outputs": [],
   "source": [
    "from queue import Queue\n",
    "from threading import Thread\n",
    "from threading import Lock\n",
    "import logging\n",
    "\n",
    "logging.basicConfig(format='(%(threadName)-9s) %(message)s',)"
   ]
  },
  {
   "cell_type": "code",
   "execution_count": 131,
   "metadata": {},
   "outputs": [
    {
     "name": "stdout",
     "output_type": "stream",
     "text": [
      "10000\n"
     ]
    }
   ],
   "source": [
    "bound_1=0\n",
    "bound_2 = 1000\n",
    "number_of_steps = 10_000_000\n",
    "step = (bound_2-bound_1)/number_of_steps\n",
    "bound = np.arange(bound_1,bound_2+step,step)\n",
    "\n",
    "#we further divide the bound per 1000 steps\n",
    "chunks = [bound[i:i+1000+1] for i in range(0,len(bound)-1000,1000)]\n",
    "print(len(chunks))"
   ]
  },
  {
   "cell_type": "code",
   "execution_count": 158,
   "metadata": {},
   "outputs": [],
   "source": [
    "y = 0\n",
    "def calculate_gamma_thread(x,chunk):\n",
    "    while True:\n",
    "        global y\n",
    "        chunk = q.get()\n",
    "        for i in range(len(chunk)-1):\n",
    "            with Lock():\n",
    "                value1 = (chunk[i]**(x-1))*math.exp(-chunk[i])\n",
    "                value2 = (chunk[i+1]**(x-1))*math.exp(-chunk[i+1])\n",
    "                if value2>=value1:\n",
    "                    height=value1\n",
    "                height = value2\n",
    "                y+=height*step\n",
    "        q.task_done()"
   ]
  },
  {
   "cell_type": "code",
   "execution_count": 159,
   "metadata": {},
   "outputs": [
    {
     "name": "stdout",
     "output_type": "stream",
     "text": [
      "results ran by 4 threads 119.73463439161083 ,Finished in 51.2276 seconds\n"
     ]
    }
   ],
   "source": [
    "st = time.time()\n",
    "q=Queue()\n",
    "num_threads=4\n",
    "for i in range(num_threads):\n",
    "    worker = Thread(target=calculate_gamma_thread,\n",
    "                   args=(6,q,))\n",
    "    worker.setDaemon(True)\n",
    "    worker.start()\n",
    "\n",
    "for chunk in chunks:\n",
    "    q.put(chunk)\n",
    "\n",
    "q.join()\n",
    "et = time.time()\n",
    "\n",
    "print(f'results ran by 4 threads {y} ,Finished in {(et - st):.4f} seconds')"
   ]
  },
  {
   "cell_type": "markdown",
   "metadata": {},
   "source": [
    "### 1.3.2"
   ]
  },
  {
   "cell_type": "code",
   "execution_count": 126,
   "metadata": {},
   "outputs": [],
   "source": [
    "from multiprocessing.pool import Pool"
   ]
  },
  {
   "cell_type": "code",
   "execution_count": 127,
   "metadata": {},
   "outputs": [],
   "source": [
    "def calculate_gamma_pool(x,chunk):\n",
    "    area=0\n",
    "    for i in range(len(chunk)-1):\n",
    "        value1 = (chunk[i]**(x-1))*math.exp(-chunk[i])\n",
    "        value2 = (chunk[i+1]**(x-1))*math.exp(-chunk[i+1])\n",
    "        if value2>=value1:\n",
    "            height=value1\n",
    "        height = value2\n",
    "        area+=height*step\n",
    "    return area"
   ]
  },
  {
   "cell_type": "code",
   "execution_count": 128,
   "metadata": {},
   "outputs": [
    {
     "name": "stdout",
     "output_type": "stream",
     "text": [
      "10000\n"
     ]
    }
   ],
   "source": [
    "bound_1=0\n",
    "bound_2 = 1000\n",
    "number_of_steps = 10_000_000\n",
    "step = (bound_2-bound_1)/number_of_steps\n",
    "bound = np.arange(bound_1,bound_2+step,step)\n",
    "\n",
    "#we further divide the bound per 1000 steps\n",
    "chunks = [bound[i:i+1000+1] for i in range(0,len(bound)-1000,1000)]\n",
    "print(len(chunks))"
   ]
  },
  {
   "cell_type": "code",
   "execution_count": 161,
   "metadata": {},
   "outputs": [
    {
     "name": "stdout",
     "output_type": "stream",
     "text": [
      "reults ran by 4 threads 119.99999999999991 ,Finished in 18.3949 seconds\n"
     ]
    }
   ],
   "source": [
    "st = time.time()\n",
    "with Pool(4) as p:\n",
    "    results = p.starmap(calculate_gamma_pool,[(6,chunk) for chunk in chunks])\n",
    "et = time.time()\n",
    "print(f'reults ran by 4 threads {sum(results)} ,Finished in {(et - st):.4f} seconds')"
   ]
  },
  {
   "cell_type": "code",
   "execution_count": 162,
   "metadata": {},
   "outputs": [
    {
     "name": "stdout",
     "output_type": "stream",
     "text": [
      "reults rand by 8 threads 119.99999999999991 ,Finished in 18.3475 seconds\n"
     ]
    }
   ],
   "source": [
    "st = time.time()\n",
    "with Pool(8) as p:\n",
    "    results = p.starmap(calculate_gamma_pool,[(6,chunk) for chunk in chunks])\n",
    "et = time.time()\n",
    "print(f'reults rand by 8 threads {sum(results)} ,Finished in {(et - st):.4f} seconds')"
   ]
  },
  {
   "cell_type": "markdown",
   "metadata": {},
   "source": [
    "**1.3.3 (Points 10)**\n",
    "Compare the times of the three versions and write a short explanation of what you are observing.\n",
    "\n",
    "How does the answer change when N=8 and why?"
   ]
  },
  {
   "cell_type": "markdown",
   "metadata": {},
   "source": [
    "---\n",
    "\n",
    "The reuturning result is the same but the time varies between the three.\n",
    "\n",
    "The fastest is the multiproccessing with Pool. It finished in 18.3949 secondswith 4 threads and 18.3475 seconds with 8 threads.\n",
    "\n",
    "The second fastest is the original one with no threading or pool. It takes 38 seconds.\n",
    "\n",
    "The slowest is the thresding one with almost 51.2276 seconds. It is mainly due to we need to the part q.join()\n",
    "\n",
    "After we change to 8 threads, the time doesn't change much for the pool but increased for the threading one.\n",
    "Because the with more threads, it takes longer time to join."
   ]
  },
  {
   "cell_type": "markdown",
   "metadata": {},
   "source": [
    "---\n",
    "\n",
    "**Problem 2 (40 points)**\n",
    "\n",
    "__Website uptime__ is the time that a website or web service is available to the users over a given period.\n",
    "\n",
    "The task is to build an application that checks the uptime of websites. \n",
    "\n",
    "- The application should go over a list of website URLs and checks if those websites are up.\n",
    "- Instead of performing a classic HTTP GET request, it performs a HEAD request so that it does not affect traffic significantly.\n",
    "- If the HTTP status is in the danger ranges (400+, 500+), a message is casted. \n",
    "\n",
    "Here are some useful functions:"
   ]
  },
  {
   "cell_type": "code",
   "execution_count": 46,
   "metadata": {},
   "outputs": [],
   "source": [
    "#### _website uptimer_ ####\n",
    "\n",
    "import time\n",
    "import logging\n",
    "import requests\n",
    " \n",
    "class WebsiteDownException(Exception):\n",
    "    pass\n",
    " \n",
    "def ping_website(address, timeout=20):\n",
    "    \"\"\"\n",
    "    Check if a website is down. A website is considered down \n",
    "    if either the status_code >= 400 or if the timeout expires\n",
    "     \n",
    "    Throw a WebsiteDownException if any of the website down conditions are met\n",
    "    \"\"\"\n",
    "    try:\n",
    "        response = requests.head(address, timeout=timeout)\n",
    "        if response.status_code >= 400:\n",
    "            logging.warning(\"Website %s returned status_code=%s\" % (address, response.status_code))\n",
    "            raise WebsiteDownException()\n",
    "    except requests.exceptions.RequestException:\n",
    "        logging.warning(\"Timeout expired for website %s\" % address)\n",
    "        raise WebsiteDownException()\n",
    "         \n",
    "def check_website(address):\n",
    "    \"\"\"\n",
    "    Utility function: check if a website is down, if so, notify the user\n",
    "    \"\"\"\n",
    "    try:\n",
    "        ping_website(address)\n",
    "    except WebsiteDownException:\n",
    "        print('The websie ' + address + ' is down')"
   ]
  },
  {
   "cell_type": "markdown",
   "metadata": {},
   "source": [
    "---\n",
    "\n",
    "You need a website list to try our system out. Create your own list or use the following one. \n",
    "\n",
    "---"
   ]
  },
  {
   "cell_type": "code",
   "execution_count": 52,
   "metadata": {},
   "outputs": [],
   "source": [
    "WEBSITE_LIST = [\n",
    "    'http://amazon.co.uk',\n",
    "    'http://amazon.com',\n",
    "    'http://facebook.com',\n",
    "    'http://google.com',\n",
    "    'http://google.fr',\n",
    "    'http://google.es',\n",
    "    'http://google.co.uk',\n",
    "    'http://gmail.com',\n",
    "    'http://stackoverflow.com',\n",
    "    'http://github.com',\n",
    "    'http://heroku.com',\n",
    "    'http://really-cool-available-domain.com',\n",
    "    'http://djangoproject.com',\n",
    "    'http://rubyonrails.org',\n",
    "    'http://basecamp.com',\n",
    "    'http://trello.com',\n",
    "    'http://shopify.com',\n",
    "    'http://another-really-interesting-domain.co',\n",
    "    'http://airbnb.com',\n",
    "    'http://instagram.com',\n",
    "    'http://snapchat.com',\n",
    "    'http://youtube.com',\n",
    "    'http://baidu.com',\n",
    "    'http://yahoo.com',\n",
    "    'http://live.com',\n",
    "    'http://linkedin.com',\n",
    "    'http://netflix.com',\n",
    "    'http://wordpress.com',\n",
    "    'http://bing.com',\n",
    "]"
   ]
  },
  {
   "cell_type": "markdown",
   "metadata": {},
   "source": [
    "---\n",
    "\n",
    "A serial version of the _website uptimer_ can be written as: \n",
    "\n",
    "---\n"
   ]
  },
  {
   "cell_type": "code",
   "execution_count": 53,
   "metadata": {
    "scrolled": true
   },
   "outputs": [
    {
     "name": "stderr",
     "output_type": "stream",
     "text": [
      "(MainThread) Timeout expired for website http://really-cool-available-domain.com\n"
     ]
    },
    {
     "name": "stdout",
     "output_type": "stream",
     "text": [
      "The websie http://really-cool-available-domain.com is down\n"
     ]
    },
    {
     "name": "stderr",
     "output_type": "stream",
     "text": [
      "(MainThread) Timeout expired for website http://another-really-interesting-domain.co\n"
     ]
    },
    {
     "name": "stdout",
     "output_type": "stream",
     "text": [
      "The websie http://another-really-interesting-domain.co is down\n"
     ]
    },
    {
     "name": "stderr",
     "output_type": "stream",
     "text": [
      "(MainThread) Website http://netflix.com returned status_code=405\n"
     ]
    },
    {
     "name": "stdout",
     "output_type": "stream",
     "text": [
      "The websie http://netflix.com is down\n",
      "Time for Serial: 4.839232921600342secs\n"
     ]
    }
   ],
   "source": [
    "import time\n",
    " \n",
    "start_time = time.time()\n",
    " \n",
    "for address in WEBSITE_LIST:\n",
    "    check_website(address)\n",
    "         \n",
    "end_time = time.time()        \n",
    " \n",
    "print(\"Time for Serial: %ssecs\" % (end_time - start_time))"
   ]
  },
  {
   "cell_type": "markdown",
   "metadata": {},
   "source": [
    "You should build two versions of the **website uptimer**, by using:\n",
    "\n",
    "**2.1 (Points 15)**\n",
    "**threading** with N=4 threads; \n",
    "\n",
    "**2.2 (Points 15)**\n",
    "**multiprocessing** with N=4 processes. \n",
    "\n",
    "\n",
    "**2.3 (Points 10)** \n",
    "\n",
    "Compare the times of the three versions and write a short explanation of what you are observing.\n",
    "\n",
    "How does the answer change when N=8 and why?\n"
   ]
  },
  {
   "cell_type": "markdown",
   "metadata": {},
   "source": [
    "## 2.1"
   ]
  },
  {
   "cell_type": "code",
   "execution_count": 91,
   "metadata": {},
   "outputs": [],
   "source": [
    "def check_website_thread(address):\n",
    "    while True:\n",
    "        address = q.get()\n",
    "        try:\n",
    "            ping_website(address)\n",
    "        except WebsiteDownException:\n",
    "            print('The websie ' + address + ' is down')\n",
    "        q.task_done()"
   ]
  },
  {
   "cell_type": "code",
   "execution_count": 98,
   "metadata": {},
   "outputs": [
    {
     "name": "stderr",
     "output_type": "stream",
     "text": [
      "(Thread-232) Timeout expired for website http://really-cool-available-domain.com\n",
      "(Thread-232) Timeout expired for website http://another-really-interesting-domain.co\n"
     ]
    },
    {
     "name": "stdout",
     "output_type": "stream",
     "text": [
      "The websie http://really-cool-available-domain.com is down\n",
      "The websie http://another-really-interesting-domain.co is down\n"
     ]
    },
    {
     "name": "stderr",
     "output_type": "stream",
     "text": [
      "(Thread-229) Website http://netflix.com returned status_code=405\n"
     ]
    },
    {
     "name": "stdout",
     "output_type": "stream",
     "text": [
      "The websie http://netflix.com is down\n",
      "Time for 4 threads: 2.521346092224121secs\n"
     ]
    }
   ],
   "source": [
    "st = time.time()\n",
    "q = Queue()\n",
    "for i in range(4):\n",
    "    worker = Thread(target=check_website_thread,\n",
    "                   args=(q,))\n",
    "    worker.setDaemon(True)\n",
    "    worker.start()\n",
    "    \n",
    "for link in WEBSITE_LIST:\n",
    "    q.put(link)\n",
    "\n",
    "q.join()\n",
    "et = time.time()\n",
    "print(\"Time for 4 threads: %ssecs\" % (et - st))\n"
   ]
  },
  {
   "cell_type": "code",
   "execution_count": 99,
   "metadata": {},
   "outputs": [
    {
     "name": "stderr",
     "output_type": "stream",
     "text": [
      "(Thread-234) Timeout expired for website http://really-cool-available-domain.com\n",
      "(Thread-234) Timeout expired for website http://another-really-interesting-domain.co\n"
     ]
    },
    {
     "name": "stdout",
     "output_type": "stream",
     "text": [
      "The websie http://really-cool-available-domain.com is down\n",
      "The websie http://another-really-interesting-domain.co is down\n"
     ]
    },
    {
     "name": "stderr",
     "output_type": "stream",
     "text": [
      "(Thread-234) Website http://netflix.com returned status_code=405\n"
     ]
    },
    {
     "name": "stdout",
     "output_type": "stream",
     "text": [
      "The websie http://netflix.com is down\n"
     ]
    },
    {
     "name": "stderr",
     "output_type": "stream",
     "text": [
      "(Thread-233) Timeout expired for website http://baidu.com\n"
     ]
    },
    {
     "name": "stdout",
     "output_type": "stream",
     "text": [
      "The websie http://baidu.com is down\n",
      "Time for 8 threads: 2.814148187637329secs\n"
     ]
    }
   ],
   "source": [
    "st = time.time()\n",
    "q = Queue()\n",
    "for i in range(8):\n",
    "    worker = Thread(target=check_website_thread,\n",
    "                   args=(q,))\n",
    "    worker.setDaemon(True)\n",
    "    worker.start()\n",
    "    \n",
    "for link in WEBSITE_LIST:\n",
    "    q.put(link)\n",
    "\n",
    "q.join()\n",
    "et = time.time()\n",
    "print(\"Time for 8 threads: %ssecs\" % (et - st))"
   ]
  },
  {
   "cell_type": "markdown",
   "metadata": {},
   "source": [
    "## 2.2"
   ]
  },
  {
   "cell_type": "code",
   "execution_count": 94,
   "metadata": {},
   "outputs": [
    {
     "name": "stderr",
     "output_type": "stream",
     "text": [
      "(MainThread) Timeout expired for website http://really-cool-available-domain.com\n"
     ]
    },
    {
     "name": "stdout",
     "output_type": "stream",
     "text": [
      "The websie http://really-cool-available-domain.com is down\n"
     ]
    },
    {
     "name": "stderr",
     "output_type": "stream",
     "text": [
      "(MainThread) Timeout expired for website http://another-really-interesting-domain.co\n"
     ]
    },
    {
     "name": "stdout",
     "output_type": "stream",
     "text": [
      "The websie http://another-really-interesting-domain.co is down\n"
     ]
    },
    {
     "name": "stderr",
     "output_type": "stream",
     "text": [
      "(MainThread) Website http://netflix.com returned status_code=405\n"
     ]
    },
    {
     "name": "stdout",
     "output_type": "stream",
     "text": [
      "The websie http://netflix.com is down\n",
      "Time for Pool(4): 1.3936619758605957secs\n"
     ]
    }
   ],
   "source": [
    "start_time = time.time()\n",
    "\n",
    "with Pool(4) as p:\n",
    "    p.map(check_website,WEBSITE_LIST)\n",
    "         \n",
    "end_time = time.time()        \n",
    " \n",
    "print(\"Time for Pool(4): %ssecs\" % (end_time - start_time))"
   ]
  },
  {
   "cell_type": "code",
   "execution_count": 95,
   "metadata": {
    "scrolled": true
   },
   "outputs": [
    {
     "name": "stderr",
     "output_type": "stream",
     "text": [
      "(MainThread) Timeout expired for website http://really-cool-available-domain.com\n"
     ]
    },
    {
     "name": "stdout",
     "output_type": "stream",
     "text": [
      "The websie http://really-cool-available-domain.com is down\n"
     ]
    },
    {
     "name": "stderr",
     "output_type": "stream",
     "text": [
      "(MainThread) Timeout expired for website http://another-really-interesting-domain.co\n"
     ]
    },
    {
     "name": "stdout",
     "output_type": "stream",
     "text": [
      "The websie http://another-really-interesting-domain.co is down\n"
     ]
    },
    {
     "name": "stderr",
     "output_type": "stream",
     "text": [
      "(MainThread) Website http://netflix.com returned status_code=405\n"
     ]
    },
    {
     "name": "stdout",
     "output_type": "stream",
     "text": [
      "The websie http://netflix.com is down\n",
      "Time for Pool(8): 1.245030164718628secs\n"
     ]
    }
   ],
   "source": [
    "start_time = time.time()\n",
    "\n",
    "with Pool(8) as p:\n",
    "    p.map(check_website,WEBSITE_LIST)\n",
    "         \n",
    "end_time = time.time()        \n",
    " \n",
    "print(\"Time for Pool(8): %ssecs\" % (end_time - start_time))"
   ]
  },
  {
   "cell_type": "markdown",
   "metadata": {},
   "source": [
    "## 2.3"
   ]
  },
  {
   "cell_type": "markdown",
   "metadata": {},
   "source": [
    "---\n",
    "\n",
    "The result is the same but the time varies between three of them.\n",
    "\n",
    "Original time:4.839232921600342secs\n",
    "\n",
    "Threading4:2.521346092224121secs\n",
    "\n",
    "Threading8:2.814148187637329secs\n",
    "\n",
    "Pool4:1.1.3936619758605957secs\n",
    "\n",
    "Pool8:1.245030164718628secs\n",
    "\n",
    "The fastest is the Pool. When we increase threads from 4 to 8, the processing time decreased a lot as now we further split them into 8 running paralle at the same time.\n",
    "\n",
    "The second fastest is Threading. Threading 4 runs faster than threading 8 mainly due to q.join() part. In threading 8, which causes the main thread to wait for the queue to finish processing all the tasks. \n",
    "\n",
    "The slowest is the original one"
   ]
  },
  {
   "cell_type": "code",
   "execution_count": null,
   "metadata": {},
   "outputs": [],
   "source": []
  },
  {
   "cell_type": "code",
   "execution_count": null,
   "metadata": {},
   "outputs": [],
   "source": []
  }
 ],
 "metadata": {
  "kernelspec": {
   "display_name": "Python 3",
   "language": "python",
   "name": "python3"
  },
  "language_info": {
   "codemirror_mode": {
    "name": "ipython",
    "version": 3
   },
   "file_extension": ".py",
   "mimetype": "text/x-python",
   "name": "python",
   "nbconvert_exporter": "python",
   "pygments_lexer": "ipython3",
   "version": "3.7.3"
  }
 },
 "nbformat": 4,
 "nbformat_minor": 2
}
