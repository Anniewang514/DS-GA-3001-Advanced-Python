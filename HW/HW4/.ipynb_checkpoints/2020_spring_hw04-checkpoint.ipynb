{
 "cells": [
  {
   "cell_type": "markdown",
   "metadata": {},
   "source": [
    "# Advanced Python for Data Science\n",
    "### DS-GA-3001.001/.002\n",
    "\n",
    "### Homework Assignment 04\n",
    "### Due date: 03/02/2020, 10:00AM\n",
    "### Student's Name: Yunya Wang\n",
    "### Student's e-mail: yw4509@nyu.edu"
   ]
  },
  {
   "cell_type": "markdown",
   "metadata": {},
   "source": [
    "# Problem 1 (100 points)\n",
    "\n",
    "The task is to optimize your solutions by using \"line_profiler\". \n",
    "\n",
    "Your submission \"2020_spring_sol04_yourid.ipynb\" will contain:\n",
    "- the first part is your original solution (a solution that you originally wrote); \n",
    "- the second part is your final, optimized solution after using line_profiler; \n",
    "- both of which will include the line_profiler results, and your detailed comments.\n",
    "\n",
    "\n",
    "The problem is to simulate a random motion of $n$ objects over a discrete time. \n",
    "\n",
    "Concretely, there is:\n",
    "- a unit square $[0,1]^2$, \n",
    "- $n$ points within the unit square, \n",
    "- and the time is discrete $t=0, 1, 2, \\dots$. \n",
    "\n",
    "At time $t=0$, the positions of $n$ points are randomly and uniformly distributed within the unit square; call these positions $\\{p_0, p_1, p_2,\\dots, p_{n-1}\\}$. \n",
    "\n",
    "At every time step $t \\geq 0$, every point $i$, chooses to randomly move in one of four directions: left, right, up, down. The distance is also random uniform number on $[0, \\delta]$, where $\\delta$ is given. \n",
    "\n",
    "That is, at every time step $t$ and for every $i$ we generate a random move as: \n",
    "$$ p_i := p_i + r_i \\cdot u_i$$\n",
    "where \n",
    "$$ r_i \\sim uniform[0, \\delta],$$ \n",
    "and \n",
    "$u_i$ represents a random direction, i.e. a randomly chosen vector among $(-1, 0), (1, 0), (0, -1), (0, 1)$.\n",
    "\n",
    "**Dynamics**\n",
    "\n",
    "Now, one would like to examine and plot the diagram of the minimum distance $d_{\\min}$ among these $n$ points over $T$ iterations.\n",
    "\n",
    "The task is to complete the rest of this notebook, where definitions of the functions main_orignal and main_optimized are given below. "
   ]
  },
  {
   "cell_type": "code",
   "execution_count": 209,
   "metadata": {},
   "outputs": [],
   "source": [
    "import numpy as np\n",
    "import random\n",
    "import matplotlib.pyplot as plt\n",
    "import timeit"
   ]
  },
  {
   "cell_type": "code",
   "execution_count": 210,
   "metadata": {},
   "outputs": [
    {
     "name": "stdout",
     "output_type": "stream",
     "text": [
      "The line_profiler extension is already loaded. To reload it, use:\n",
      "  %reload_ext line_profiler\n"
     ]
    }
   ],
   "source": [
    "%load_ext line_profiler"
   ]
  },
  {
   "cell_type": "markdown",
   "metadata": {},
   "source": [
    "### Pre-defined functions"
   ]
  },
  {
   "cell_type": "markdown",
   "metadata": {},
   "source": [
    "### Initialize"
   ]
  },
  {
   "cell_type": "code",
   "execution_count": 211,
   "metadata": {},
   "outputs": [],
   "source": [
    "def init_loop(n):\n",
    "    lst_of_points=[]\n",
    "    for i in range(n):\n",
    "        x = np.random.uniform(0,1)\n",
    "        y = np.random.uniform(0,1)\n",
    "        lst_of_points.append([x,y])\n",
    "    return np.array(lst_of_points)"
   ]
  },
  {
   "cell_type": "code",
   "execution_count": 212,
   "metadata": {},
   "outputs": [],
   "source": [
    "def init_np(n):\n",
    "    return np.random.uniform(0,1,size=(n,2))"
   ]
  },
  {
   "cell_type": "code",
   "execution_count": 213,
   "metadata": {},
   "outputs": [
    {
     "name": "stdout",
     "output_type": "stream",
     "text": [
      "3.13 ms ± 149 µs per loop (mean ± std. dev. of 7 runs, 100 loops each)\n"
     ]
    }
   ],
   "source": [
    "%timeit init_loop(1000)"
   ]
  },
  {
   "cell_type": "code",
   "execution_count": 214,
   "metadata": {},
   "outputs": [
    {
     "name": "stdout",
     "output_type": "stream",
     "text": [
      "41.2 µs ± 5.84 µs per loop (mean ± std. dev. of 7 runs, 10000 loops each)\n"
     ]
    }
   ],
   "source": [
    "%timeit init_np(1000)"
   ]
  },
  {
   "cell_type": "markdown",
   "metadata": {},
   "source": [
    "#### Minimum Distance Among All Combinations"
   ]
  },
  {
   "cell_type": "code",
   "execution_count": 215,
   "metadata": {},
   "outputs": [],
   "source": [
    "def min_dis_comb(s):\n",
    "    comb = []\n",
    "    min_dis = 10**10\n",
    "    for i, v1 in enumerate(s):\n",
    "        for j in range(i+1, len(s)):\n",
    "            comb.append([v1, s[j]])\n",
    "    for item in comb:\n",
    "        temp = ((item[0][0]-item[1][0])**2+(item[0][1]-item[1][1])**2)**0.5\n",
    "        if temp <= min_dis:\n",
    "            min_dis = temp\n",
    "    return min_dis\n",
    "        "
   ]
  },
  {
   "cell_type": "code",
   "execution_count": 216,
   "metadata": {},
   "outputs": [],
   "source": [
    "from itertools import combinations\n",
    "def min_dis_itertools(s):\n",
    "    min_dis = 10**10\n",
    "    for item in list(combinations(s,2)):\n",
    "        temp = ((item[0][0]-item[1][0])**2+(item[0][1]-item[1][1])**2)**0.5\n",
    "        if temp <= min_dis:\n",
    "            min_dis = temp\n",
    "    return min_dis"
   ]
  },
  {
   "cell_type": "code",
   "execution_count": 217,
   "metadata": {},
   "outputs": [],
   "source": [
    "test =[[0.62543372, 0.68227402],\n",
    " [0.37585926, 0.0635159 ],\n",
    " [0.57221169, 0.67451977]]"
   ]
  },
  {
   "cell_type": "code",
   "execution_count": 218,
   "metadata": {},
   "outputs": [
    {
     "name": "stdout",
     "output_type": "stream",
     "text": [
      "4.68 µs ± 296 ns per loop (mean ± std. dev. of 7 runs, 100000 loops each)\n"
     ]
    }
   ],
   "source": [
    "%timeit min_dis_comb(test)"
   ]
  },
  {
   "cell_type": "code",
   "execution_count": 219,
   "metadata": {},
   "outputs": [
    {
     "name": "stdout",
     "output_type": "stream",
     "text": [
      "3.67 µs ± 503 ns per loop (mean ± std. dev. of 7 runs, 100000 loops each)\n"
     ]
    }
   ],
   "source": [
    "%timeit min_dis_itertools(test)"
   ]
  },
  {
   "cell_type": "markdown",
   "metadata": {},
   "source": [
    "---\n",
    "\n",
    "### The original code description: \n",
    "\n",
    "** TO BE POPULATED **\n",
    "\n",
    "** In the original verson, three areas needs to be improved **\n",
    "1. I initialized the first n points by generating one point at a time and append n times a the list. Refer to pre-defined function section at the top (function init_loop)\n",
    "2. I find the combinations by manually generating it using nested loops. Refer to pre-defined function section at the top. (function min_dis_comb)\n",
    "3. I updated every point using two loops (one for iter) (one for each point in the list). \n",
    "\n",
    "---\n"
   ]
  },
  {
   "cell_type": "code",
   "execution_count": 227,
   "metadata": {},
   "outputs": [],
   "source": [
    "def main_original(n, delta, T): \n",
    "    \"\"\" \n",
    "    n: is the number of uniformly at random generated points in the unit square \n",
    "    delta: a maximal move of a point in one of four random directions: left, right, up, or down \n",
    "    T: number of iterations\n",
    "    return: \n",
    "    lst_of_min_distances: of the minimum distances among all n points over times: t=0, 1, 2, \\dots, T - 1,\n",
    "    it is a list of reals of length T\"\"\"\n",
    "    direction = [[-1,0],[1,0],[0,-1],[0,1]]\n",
    "    lst_of_min_distances = []\n",
    "             \n",
    "    lst_of_points = init_loop(n) #initialize n points at time 0\n",
    "    lst_of_min_distances.append(min_dis_comb(lst_of_points)) #cal the min distance at time 0\n",
    "    for t in range(1,T):\n",
    "        for i in range(n):\n",
    "            ui = np.array(direction[np.random.randint(0,high=4)]) #direction\n",
    "            ri = np.random.uniform(0,delta) #movement\n",
    "            temp = lst_of_points[i] + ri*ui #update point\n",
    "            lst_of_points[i][0] = min(max(temp[0],0),1) #cap the points in the square\n",
    "            lst_of_points[i][1] = min(max(temp[1],0),1) #cap the points in the square\n",
    "        min_dis = min_dis_comb(lst_of_points) #cal the min distance\n",
    "        lst_of_min_distances.append(min_dis) \n",
    "    return lst_of_min_distances"
   ]
  },
  {
   "cell_type": "code",
   "execution_count": 228,
   "metadata": {},
   "outputs": [],
   "source": [
    "n = 1000\n",
    "delta = 1.0 / n\n",
    "T = 25"
   ]
  },
  {
   "cell_type": "code",
   "execution_count": 229,
   "metadata": {},
   "outputs": [],
   "source": [
    "%lprun -f main_original lst_min_dist = main_original(n, delta, T)"
   ]
  },
  {
   "cell_type": "code",
   "execution_count": null,
   "metadata": {},
   "outputs": [],
   "source": [
    "Timer unit: 1e-06 s\n",
    "\n",
    "Total time: 92.2779 s\n",
    "File: <ipython-input-220-a9e5a93ffdf3>\n",
    "Function: main_original at line 1\n",
    "\n",
    "Line #      Hits         Time  Per Hit   % Time  Line Contents\n",
    "==============================================================\n",
    "     1                                           def main_original(n, delta, T): \n",
    "     2                                               \"\"\" \n",
    "     3                                               n: is the number of uniformly at random generated points in the unit square \n",
    "     4                                               delta: a maximal move of a point in one of four random directions: left, right, up, or down \n",
    "     5                                               T: number of iterations\n",
    "     6                                               return: \n",
    "     7                                               lst_of_min_distances: of the minimum distances among all n points over times: t=0, 1, 2, \\dots, T - 1,\n",
    "     8                                               it is a list of reals of length T\"\"\"\n",
    "     9         1          3.0      3.0      0.0      direction = [[-1,0],[1,0],[0,-1],[0,1]]\n",
    "    10         1          1.0      1.0      0.0      lst_of_min_distances = []\n",
    "    11                                                        \n",
    "    12         1      14149.0  14149.0      0.0      lst_of_points = init_loop(n) #initialize n points at time 0\n",
    "    13         1    2974151.0 2974151.0      3.2      lst_of_min_distances.append(min_dis_comb(lst_of_points)) #cal the min distance at time 0\n",
    "    14        25         53.0      2.1      0.0      for t in range(1,T):\n",
    "    15     24024      16150.0      0.7      0.0          for i in range(n):\n",
    "    16     24000     175637.0      7.3      0.2              ui = np.array(direction[np.random.randint(0,high=4)])\n",
    "    17     24000      76778.0      3.2      0.1              ri = np.random.uniform(0,delta)\n",
    "    18     24000     157422.0      6.6      0.2              temp = lst_of_points[i] + ri*ui\n",
    "    19     24000      89290.0      3.7      0.1              lst_of_points[i][0] = min(max(temp[0],0),1)\n",
    "    20     24000      65664.0      2.7      0.1              lst_of_points[i][1] = min(max(temp[1],0),1)\n",
    "    21        24   88708434.0 3696184.8     96.1          min_dis = min_dis_comb(lst_of_points)\n",
    "    22        24        212.0      8.8      0.0          lst_of_min_distances.append(min_dis) \n",
    "    23         1          2.0      2.0      0.0      return lst_of_min_distances"
   ]
  },
  {
   "cell_type": "code",
   "execution_count": 230,
   "metadata": {},
   "outputs": [
    {
     "name": "stdout",
     "output_type": "stream",
     "text": [
      "len: 25\n"
     ]
    },
    {
     "data": {
      "image/png": "[encoded data removed]",
      "text/plain": [
       "<Figure size 432x288 with 1 Axes>"
      ]
     },
     "metadata": {
      "needs_background": "light"
     },
     "output_type": "display_data"
    }
   ],
   "source": [
    "# plot the diagram of the minimum distances:\n",
    "# where we rescale distance with by factor $\\sqrt{n}$:\n",
    "print(\"len:\", len(lst_min_dist))\n",
    "plt.plot(range(T), np.array(lst_min_dist) * np.sqrt(n))\n",
    "plt.show()"
   ]
  },
  {
   "cell_type": "markdown",
   "metadata": {},
   "source": [
    "---\n",
    "\n",
    "### The optimized code description: \n",
    "\n",
    "** TO BE POPULATED **\n",
    "\n",
    "** Compare to the original above, I made three changes in terms of optimizations **\n",
    "1. I initialized the first n points using np.random.uniform(0,1,size=(n,2)) directly rather than generating one point at a time and append n times a the list. Refer to pre-defined function section at the top. (Function (function init_np)\n",
    "2. I find the combinations using itertools rather than manually generating. Refer to pre-defined function section at the top. (fucntion min_dis_itertools)\n",
    "3. Rather than using two loops (one for iter) (one for each point in the list). I used vertorization by using numpy operations to eliminate one loop.\n",
    "4. Overall the simulations speed up significantly.\n",
    "\n",
    "---\n"
   ]
  },
  {
   "cell_type": "code",
   "execution_count": 223,
   "metadata": {},
   "outputs": [],
   "source": [
    "def main_optimized(n, delta, T): \n",
    "    \"\"\" \n",
    "    n: is the number of uniformly at random generated points in the unit square \n",
    "    delta: a maximal move of a point in one of four random directions: left, right, up, or down \n",
    "    T: number of iterations\n",
    "    return: \n",
    "    lst_of_min_distances: of the minimum distances among all n points over times: t=0, 1, 2, \\dots, T - 1,\n",
    "    it is a list of reals of length T\"\"\"\n",
    "    direction = [[-1,0],[1,0],[0,-1],[0,1]]\n",
    "    lst_of_min_distances = []\n",
    "             \n",
    "    lst_of_points = init_np(n) #initialize n points at time 0 using numpy\n",
    "    lst_of_min_distances.append(min_dis_itertools(lst_of_points)) #cal the min distance at time 0\n",
    "    for t in range(1,T):\n",
    "        ui = np.array([direction[i] for i in np.random.randint(0,high=4,size=n)]) #direction\n",
    "        ri = np.random.uniform(0,delta,n).reshape(n,1) #movement\n",
    "        temp = lst_of_points + ri*ui #update each point in the list\n",
    "        lst_of_points = np.maximum(temp,0) #cap each point in the square\n",
    "        lst_of_points = np.minimum(temp,1) #cap each point in the square\n",
    "        min_dis = min_dis_itertools(lst_of_points) #cal min distance using itertools\n",
    "        lst_of_min_distances.append(min_dis) \n",
    "    return lst_of_min_distances"
   ]
  },
  {
   "cell_type": "code",
   "execution_count": 224,
   "metadata": {},
   "outputs": [],
   "source": [
    "n = 1000\n",
    "delta = 1.0 / n\n",
    "T = 50"
   ]
  },
  {
   "cell_type": "code",
   "execution_count": 225,
   "metadata": {},
   "outputs": [],
   "source": [
    "%lprun -f main_optimized lst_min_dist = main_optimized(n, delta, T)"
   ]
  },
  {
   "cell_type": "code",
   "execution_count": null,
   "metadata": {},
   "outputs": [],
   "source": [
    "Timer unit: 1e-06 s\n",
    "\n",
    "Total time: 82.8837 s\n",
    "File: <ipython-input-204-dec506587205>\n",
    "Function: main_optimized at line 1\n",
    "\n",
    "Line #      Hits         Time  Per Hit   % Time  Line Contents\n",
    "==============================================================\n",
    "     1                                           def main_optimized(n, delta, T): \n",
    "     2                                               \"\"\" \n",
    "     3                                               n: is the number of uniformly at random generated points in the unit square \n",
    "     4                                               delta: a maximal move of a point in one of four random directions: left, right, up, or down \n",
    "     5                                               T: number of iterations\n",
    "     6                                               return: \n",
    "     7                                               lst_of_min_distances: of the minimum distances among all n points over times: t=0, 1, 2, \\dots, T - 1,\n",
    "     8                                               it is a list of reals of length T\"\"\"\n",
    "     9         1          3.0      3.0      0.0      direction = [[-1,0],[1,0],[0,-1],[0,1]]\n",
    "    10         1          2.0      2.0      0.0      lst_of_min_distances = []\n",
    "    11                                                        \n",
    "    12         1        209.0    209.0      0.0      lst_of_points = init_np(n) #initialize n points at time 0\n",
    "    13         1    1554807.0 1554807.0      1.9      lst_of_min_distances.append(min_dis_itertools(lst_of_points)) #cal the min distance at time 0\n",
    "    14        50         78.0      1.6      0.0      for t in range(1,T):\n",
    "    15        49      41550.0    848.0      0.1          ui = np.array([direction[i] for i in np.random.randint(0,high=4,size=n)])\n",
    "    16        49       1879.0     38.3      0.0          ri = np.random.uniform(0,delta,n).reshape(n,1)\n",
    "    17        49       2550.0     52.0      0.0          temp = lst_of_points + ri*ui\n",
    "    18        49        813.0     16.6      0.0          lst_of_points = np.maximum(temp,0)\n",
    "    19        49        486.0      9.9      0.0          lst_of_points = np.minimum(temp,1)\n",
    "    20        49   81280878.0 1658793.4     98.1          min_dis = min_dis_itertools(lst_of_points)\n",
    "    21        49        407.0      8.3      0.0          lst_of_min_distances.append(min_dis) \n",
    "    22         1          0.0      0.0      0.0      return lst_of_min_distances"
   ]
  },
  {
   "cell_type": "code",
   "execution_count": 207,
   "metadata": {},
   "outputs": [
    {
     "name": "stdout",
     "output_type": "stream",
     "text": [
      "len: 50\n"
     ]
    },
    {
     "data": {
      "image/png": "[encoded data removed]",
      "text/plain": [
       "<Figure size 432x288 with 1 Axes>"
      ]
     },
     "metadata": {
      "needs_background": "light"
     },
     "output_type": "display_data"
    }
   ],
   "source": [
    "# plot the diagram of the minimum distances:\n",
    "# where we rescale distance by a factor $\\sqrt{n}$:\n",
    "print(\"len:\", len(lst_min_dist))\n",
    "plt.plot(range(T), np.array(lst_min_dist) / np.sqrt(n))\n",
    "plt.show()"
   ]
  },
  {
   "cell_type": "code",
   "execution_count": null,
   "metadata": {},
   "outputs": [],
   "source": []
  }
 ],
 "metadata": {
  "kernelspec": {
   "display_name": "Python 3",
   "language": "python",
   "name": "python3"
  },
  "language_info": {
   "codemirror_mode": {
    "name": "ipython",
    "version": 3
   },
   "file_extension": ".py",
   "mimetype": "text/x-python",
   "name": "python",
   "nbconvert_exporter": "python",
   "pygments_lexer": "ipython3",
   "version": "3.7.3"
  }
 },
 "nbformat": 4,
 "nbformat_minor": 2
}
