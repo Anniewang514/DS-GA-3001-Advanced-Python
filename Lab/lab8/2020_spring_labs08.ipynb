{
 "cells": [
  {
   "cell_type": "markdown",
   "metadata": {
    "slideshow": {
     "slide_type": "slide"
    }
   },
   "source": [
    "## Lab 8: Optimization\n",
    "\n",
    "The basic components\n",
    "\n",
    "- The objective function (also called the 'cost' function)\n"
   ]
  },
  {
   "cell_type": "code",
   "execution_count": 1,
   "metadata": {
    "slideshow": {
     "slide_type": "slide"
    }
   },
   "outputs": [
    {
     "name": "stdout",
     "output_type": "stream",
     "text": [
      "     2\n",
      "1.3 x + 4 x + 0.6\n"
     ]
    }
   ],
   "source": [
    "import numpy as np\n",
    "objective = np.poly1d([1.3, 4.0, 0.6])\n",
    "print(objective)"
   ]
  },
  {
   "cell_type": "markdown",
   "metadata": {
    "slideshow": {
     "slide_type": "slide"
    }
   },
   "source": [
    "- The optimizer\n"
   ]
  },
  {
   "cell_type": "code",
   "execution_count": 8,
   "metadata": {
    "slideshow": {
     "slide_type": "fragment"
    }
   },
   "outputs": [
    {
     "name": "stdout",
     "output_type": "stream",
     "text": [
      "Optimization terminated successfully.\n",
      "         Current function value: -2.476923\n",
      "         Iterations: 20\n",
      "         Function evaluations: 40\n",
      "solution: x=[-1.53845215]\n"
     ]
    }
   ],
   "source": [
    "import scipy.optimize as opt\n",
    "x_ = opt.fmin(objective, [3])# 3 is the initial guess\n",
    "print(\"solution: x={}\".format(x_))\n"
   ]
  },
  {
   "cell_type": "code",
   "execution_count": 47,
   "metadata": {
    "slideshow": {
     "slide_type": "slide"
    }
   },
   "outputs": [
    {
     "data": {
      "image/png": "[encoded data removed]",
      "text/plain": [
       "<Figure size 432x288 with 1 Axes>"
      ]
     },
     "metadata": {
      "needs_background": "light"
     },
     "output_type": "display_data"
    }
   ],
   "source": [
    "import matplotlib.pyplot as plt\n",
    "\n",
    "x = np.linspace(-4,1,101)\n",
    "plt.plot(x, objective(x))\n",
    "plt.plot(x_, objective(x_), 'ro')\n",
    "plt.show()"
   ]
  },
  {
   "cell_type": "markdown",
   "metadata": {
    "slideshow": {
     "slide_type": "slide"
    }
   },
   "source": [
    "- With bounds"
   ]
  },
  {
   "cell_type": "code",
   "execution_count": 10,
   "metadata": {
    "slideshow": {
     "slide_type": "slide"
    }
   },
   "outputs": [
    {
     "data": {
      "image/png": "[encoded data removed]",
      "text/plain": [
       "<Figure size 432x288 with 1 Axes>"
      ]
     },
     "metadata": {
      "needs_background": "light"
     },
     "output_type": "display_data"
    }
   ],
   "source": [
    "f = lambda x : x ** 3 + x ** 2 - 12 * x - 1\n",
    "x = np.linspace(- 5, 5, 1000)\n",
    "\n",
    "plt.plot(x, f(x))\n",
    "\n",
    "result = opt.minimize_scalar(f, method=\"bounded\", bounds=[0, 4])\n",
    "\n",
    "f_min = f(result.x)\n",
    "plt.plot(result.x, f_min,'ro')\n",
    "plt.show()"
   ]
  },
  {
   "cell_type": "markdown",
   "metadata": {
    "slideshow": {
     "slide_type": "slide"
    }
   },
   "source": [
    "### Optimization with constraints\n",
    "\n",
    "min $x_1x_4(x_1+x_2+x_3)+x_3$\n",
    "    \n",
    "such that $x_1 x_2 x_3 x_4 \\geq 25$  \n",
    "\n",
    "$x_1^2 + x_2^2 + x_3^2 + x_4^2 = 40$\n",
    "\n",
    "$1 \\leq x_1, x_2, x_3, x_4 \\leq 5$"
   ]
  },
  {
   "cell_type": "code",
   "execution_count": 11,
   "metadata": {
    "slideshow": {
     "slide_type": "slide"
    }
   },
   "outputs": [],
   "source": [
    "def objective(x):\n",
    "    x1 = x[0]\n",
    "    x2 = x[1]\n",
    "    x3 = x[2]\n",
    "    x4 = x[3]\n",
    "    return x1*x4*(x1+x2+x3) + x3\n",
    "\n",
    "def constraint1(x):\n",
    "    return x[0]*x[1]*x[2]*x[3] - 25\n",
    "\n",
    "def constraint2(x):\n",
    "    return sum(p**2 for p in x) - 40"
   ]
  },
  {
   "cell_type": "code",
   "execution_count": 12,
   "metadata": {
    "slideshow": {
     "slide_type": "slide"
    }
   },
   "outputs": [
    {
     "name": "stdout",
     "output_type": "stream",
     "text": [
      "44\n"
     ]
    }
   ],
   "source": [
    "x0 = [2,4,4,2]\n",
    "print(objective(x0))\n"
   ]
  },
  {
   "cell_type": "code",
   "execution_count": 13,
   "metadata": {
    "slideshow": {
     "slide_type": "slide"
    }
   },
   "outputs": [],
   "source": [
    "b = (1,5)\n",
    "bounds = [b,b,b,b]\n",
    "con1 = {'type':'ineq','fun':constraint1}\n",
    "con2 = {'type':'eq','fun':constraint2}\n",
    "\n",
    "cons = [con1, con2]"
   ]
  },
  {
   "cell_type": "code",
   "execution_count": 14,
   "metadata": {
    "slideshow": {
     "slide_type": "slide"
    }
   },
   "outputs": [],
   "source": [
    "solution = opt.minimize(objective, x0, bounds= bounds, constraints = cons)\n",
    "#object is the one we want to minimize, x0 is the initial guess,\n",
    "# bounds with two types \n",
    "# two constraints function"
   ]
  },
  {
   "cell_type": "code",
   "execution_count": 15,
   "metadata": {
    "slideshow": {
     "slide_type": "fragment"
    }
   },
   "outputs": [
    {
     "data": {
      "text/plain": [
       "     fun: 17.014017283490524\n",
       "     jac: array([14.57227612,  1.37940836,  2.37940836,  9.56414986])\n",
       " message: 'Optimization terminated successfully.'\n",
       "    nfev: 36\n",
       "     nit: 6\n",
       "    njev: 6\n",
       "  status: 0\n",
       " success: True\n",
       "       x: array([1.        , 4.74299977, 3.82114981, 1.37940832])"
      ]
     },
     "execution_count": 15,
     "metadata": {},
     "output_type": "execute_result"
    }
   ],
   "source": [
    "solution"
   ]
  },
  {
   "cell_type": "markdown",
   "metadata": {
    "slideshow": {
     "slide_type": "slide"
    }
   },
   "source": [
    "### Sympy"
   ]
  },
  {
   "cell_type": "code",
   "execution_count": 2,
   "metadata": {
    "slideshow": {
     "slide_type": "slide"
    }
   },
   "outputs": [],
   "source": [
    "import math\n",
    "from sympy import * #use math symbols in python\n",
    "init_printing()"
   ]
  },
  {
   "cell_type": "code",
   "execution_count": 18,
   "metadata": {
    "slideshow": {
     "slide_type": "slide"
    }
   },
   "outputs": [
    {
     "data": {
      "image/png": "[encoded data removed]",
      "text/latex": [
       "$$1.4142135623730951$$"
      ],
      "text/plain": [
       "1.4142135623730951"
      ]
     },
     "execution_count": 18,
     "metadata": {},
     "output_type": "execute_result"
    }
   ],
   "source": [
    "math.sqrt(2)\n"
   ]
  },
  {
   "cell_type": "code",
   "execution_count": 21,
   "metadata": {
    "slideshow": {
     "slide_type": "fragment"
    }
   },
   "outputs": [
    {
     "data": {
      "image/png": "[encoded data removed]",
      "text/latex": [
       "$$1 + \\sqrt{2}$$"
      ],
      "text/plain": [
       "1 + √2"
      ]
     },
     "execution_count": 21,
     "metadata": {},
     "output_type": "execute_result"
    }
   ],
   "source": [
    "1+ sqrt(2) #sympy let us show the math form"
   ]
  },
  {
   "cell_type": "code",
   "execution_count": 24,
   "metadata": {},
   "outputs": [
    {
     "data": {
      "image/png": "[encoded data removed]",
      "text/latex": [
       "$$2.41421356237309$$"
      ],
      "text/plain": [
       "2.41421356237309"
      ]
     },
     "execution_count": 24,
     "metadata": {},
     "output_type": "execute_result"
    }
   ],
   "source": [
    "N(1+sqrt(2)) #show the actual number"
   ]
  },
  {
   "cell_type": "markdown",
   "metadata": {
    "slideshow": {
     "slide_type": "slide"
    }
   },
   "source": [
    "Symbol represents a mathematical variable"
   ]
  },
  {
   "cell_type": "code",
   "execution_count": 25,
   "metadata": {
    "slideshow": {
     "slide_type": "slide"
    }
   },
   "outputs": [],
   "source": [
    "x,y,z = symbols('x,y,z')"
   ]
  },
  {
   "cell_type": "code",
   "execution_count": 26,
   "metadata": {
    "slideshow": {
     "slide_type": "fragment"
    }
   },
   "outputs": [
    {
     "data": {
      "image/png": "[encoded data removed]",
      "text/latex": [
       "$$\\sin^{2}{\\left (x \\right )} + \\cos^{2}{\\left (x \\right )}$$"
      ],
      "text/plain": [
       "   2         2   \n",
       "sin (x) + cos (x)"
      ]
     },
     "execution_count": 26,
     "metadata": {},
     "output_type": "execute_result"
    }
   ],
   "source": [
    "sin(x)**2 + cos(x)**2\n"
   ]
  },
  {
   "cell_type": "code",
   "execution_count": 27,
   "metadata": {},
   "outputs": [],
   "source": [
    "#right click on the sin^2(x) + cos^2(x), show math as , latex"
   ]
  },
  {
   "cell_type": "code",
   "execution_count": 28,
   "metadata": {
    "slideshow": {
     "slide_type": "slide"
    }
   },
   "outputs": [],
   "source": [
    "f = (x**2 + x*y + y**2)"
   ]
  },
  {
   "cell_type": "code",
   "execution_count": 29,
   "metadata": {
    "slideshow": {
     "slide_type": "fragment"
    }
   },
   "outputs": [
    {
     "data": {
      "image/png": "[encoded data removed]",
      "text/latex": [
       "$$2 x + y$$"
      ],
      "text/plain": [
       "2⋅x + y"
      ]
     },
     "execution_count": 29,
     "metadata": {},
     "output_type": "execute_result"
    }
   ],
   "source": [
    "f.diff(x) #differential of f"
   ]
  },
  {
   "cell_type": "markdown",
   "metadata": {
    "slideshow": {
     "slide_type": "slide"
    }
   },
   "source": [
    "Hessian: Matrix of second partial derivatives\n",
    "\n",
    "$H_{i,j} = \\frac{\\partial^2 f}{\\partial x_i \\partial x_j}$"
   ]
  },
  {
   "cell_type": "code",
   "execution_count": 30,
   "metadata": {
    "slideshow": {
     "slide_type": "fragment"
    }
   },
   "outputs": [],
   "source": [
    "fhessian_sym = [[f.diff(u, v) for u in (x, y)] for v in (x, y)]"
   ]
  },
  {
   "cell_type": "code",
   "execution_count": 31,
   "metadata": {
    "slideshow": {
     "slide_type": "fragment"
    }
   },
   "outputs": [
    {
     "data": {
      "image/png": "[encoded data removed]",
      "text/latex": [
       "$$\\left [ \\left [ 2, \\quad 1\\right ], \\quad \\left [ 1, \\quad 2\\right ]\\right ]$$"
      ],
      "text/plain": [
       "[[2, 1], [1, 2]]"
      ]
     },
     "execution_count": 31,
     "metadata": {},
     "output_type": "execute_result"
    }
   ],
   "source": [
    "fhessian_sym"
   ]
  },
  {
   "cell_type": "markdown",
   "metadata": {
    "slideshow": {
     "slide_type": "slide"
    }
   },
   "source": [
    "### Implementing a neural network  : Logical OR\n",
    "\n",
    "| x_1 | x_2 | y   |\n",
    "|---- | ----| --- |\n",
    "| 1 | 0 | 1|\n",
    "| 0 | 1 | 1|\n",
    "| 1 | 1 | 1|\n",
    "| 0 | 0 | 0|"
   ]
  },
  {
   "cell_type": "code",
   "execution_count": 32,
   "metadata": {
    "slideshow": {
     "slide_type": "slide"
    }
   },
   "outputs": [],
   "source": [
    "data = np.array([[1,0,1],[0,1,1],[1,1,1],[0,0,0]])"
   ]
  },
  {
   "cell_type": "code",
   "execution_count": 33,
   "metadata": {
    "slideshow": {
     "slide_type": "fragment"
    }
   },
   "outputs": [
    {
     "name": "stdout",
     "output_type": "stream",
     "text": [
      "[[1 0]\n",
      " [0 1]\n",
      " [1 1]\n",
      " [0 0]]\n",
      "[[1]\n",
      " [1]\n",
      " [1]\n",
      " [0]]\n"
     ]
    }
   ],
   "source": [
    "X = data[:,0:2]\n",
    "y = data[:,2].reshape(-1,1)\n",
    "print(X)\n",
    "print(y)"
   ]
  },
  {
   "cell_type": "markdown",
   "metadata": {
    "slideshow": {
     "slide_type": "slide"
    }
   },
   "source": [
    "$y_{pred} = g(w_1 . x) . w_2 $\n",
    "\n",
    "where $g(z) = \\frac{1}{1+e^{-z}}$ is the sigmoid function"
   ]
  },
  {
   "cell_type": "code",
   "execution_count": 34,
   "metadata": {
    "slideshow": {
     "slide_type": "-"
    }
   },
   "outputs": [],
   "source": [
    "def sigmoid(z):\n",
    "\n",
    "    return 1/(1+np.exp(-z))"
   ]
  },
  {
   "cell_type": "code",
   "execution_count": 35,
   "metadata": {
    "slideshow": {
     "slide_type": "slide"
    }
   },
   "outputs": [],
   "source": [
    "class NeuralNetwork:\n",
    "    def __init__(self,x,y,n):\n",
    "        self.inputs = x\n",
    "        self.targets = y\n",
    "        \n",
    "        self.w1 = np.random.rand(x.shape[1],n)        \n",
    "        self.w2 = np.random.rand(n,1)                  \n",
    "    \n",
    "    def update(self,theta):\n",
    "        self.w1 = theta.reshape(3,-1)[:-1,:]\n",
    "        self.w2 = theta.reshape(3,-1)[-1,:].reshape(-1,1)\n",
    "        \n",
    "        return self.cost()\n",
    "    \n",
    "    def cost(self):\n",
    "                \n",
    "        preds = self.predictions()\n",
    "\n",
    "        J = np.mean((self.targets - np.array(preds))**2)\n",
    "        \n",
    "        return J\n",
    "    \n",
    "    def predictions(self):\n",
    "        preds = []\n",
    "        for i in self.inputs:\n",
    "        \n",
    "            pred = sigmoid(i.dot(self.w1)).dot(self.w2)\n",
    "            preds.append(pred)\n",
    "        return preds\n",
    "\n",
    "net = NeuralNetwork(X,y,2)\n"
   ]
  },
  {
   "cell_type": "code",
   "execution_count": 36,
   "metadata": {
    "slideshow": {
     "slide_type": "slide"
    }
   },
   "outputs": [],
   "source": [
    "def fit(self):\n",
    "    param_init = np.concatenate([net.w1,net.w2.T]).reshape(-1,)\n",
    "\n",
    "    res = opt.minimize(net.update,param_init)\n",
    "    \n",
    "    return res\n"
   ]
  },
  {
   "cell_type": "code",
   "execution_count": 37,
   "metadata": {
    "scrolled": false,
    "slideshow": {
     "slide_type": "slide"
    }
   },
   "outputs": [
    {
     "data": {
      "text/plain": [
       "      fun: 0.05769292022936854\n",
       " hess_inv: array([[ 923502.07801067,  827819.36417482,  907338.0971137 ,\n",
       "         812711.45723873, -852494.64870501,  852482.12310302],\n",
       "       [ 827819.36417481,  742052.64251268,  813330.98254246,\n",
       "         728509.0269097 , -764169.80358821,  764158.92467217],\n",
       "       [ 907338.09711368,  813330.98254245,  891458.99846546,\n",
       "         798487.49198921, -837574.41149084,  837562.10003236],\n",
       "       [ 812711.45723872,  728509.0269097 ,  798487.49198922,\n",
       "         715214.56736404, -750223.51817879,  750212.84187977],\n",
       "       [-852494.648705  , -764169.80358821, -837574.41149086,\n",
       "        -750223.51817879,  786948.42075672, -786936.63566921],\n",
       "       [ 852482.12310299,  764158.92467215,  837562.10003235,\n",
       "         750212.84187975, -786936.63566918,  786925.54595397]])\n",
       "      jac: array([ 9.17352736e-08, -3.61818820e-07,  1.19209290e-07, -4.58210707e-07,\n",
       "       -8.47503543e-06, -8.43405724e-06])\n",
       "  message: 'Optimization terminated successfully.'\n",
       "     nfev: 200\n",
       "      nit: 24\n",
       "     njev: 25\n",
       "   status: 0\n",
       "  success: True\n",
       "        x: array([ 15.55634909,  14.22955219,  15.30072223,  14.00307187,\n",
       "       -13.37138636,  14.29446295])"
      ]
     },
     "execution_count": 37,
     "metadata": {},
     "output_type": "execute_result"
    }
   ],
   "source": [
    "fit(net)"
   ]
  },
  {
   "cell_type": "code",
   "execution_count": 38,
   "metadata": {
    "scrolled": true,
    "slideshow": {
     "slide_type": "slide"
    }
   },
   "outputs": [
    {
     "data": {
      "text/plain": [
       "[array([0.9230695]),\n",
       " array([0.92306778]),\n",
       " array([0.92307661]),\n",
       " array([0.4615383])]"
      ]
     },
     "execution_count": 38,
     "metadata": {},
     "output_type": "execute_result"
    }
   ],
   "source": [
    "net.predictions()"
   ]
  },
  {
   "cell_type": "markdown",
   "metadata": {
    "slideshow": {
     "slide_type": "slide"
    }
   },
   "source": [
    "### Polynomial regression\n",
    "\n",
    "Relationship between x and y is modelled as a nth degree polynomial\n",
    "\n",
    "$y = b_0 + b_1x + b_2x^2 +....+ b_nx^n$"
   ]
  },
  {
   "cell_type": "code",
   "execution_count": 39,
   "metadata": {
    "slideshow": {
     "slide_type": "slide"
    }
   },
   "outputs": [],
   "source": [
    "x = np.linspace(0,6.28,10)\n",
    "e = np.random.uniform(low=0,high=0.25,size=10)\n",
    "\n",
    "yn = np.sin(x) + e"
   ]
  },
  {
   "cell_type": "code",
   "execution_count": 40,
   "metadata": {
    "slideshow": {
     "slide_type": "slide"
    }
   },
   "outputs": [
    {
     "data": {
      "text/plain": [
       "<matplotlib.collections.PathCollection at 0x10210b8ef0>"
      ]
     },
     "execution_count": 40,
     "metadata": {},
     "output_type": "execute_result"
    },
    {
     "data": {
      "image/png": "[encoded data removed]",
      "text/plain": [
       "<Figure size 432x288 with 1 Axes>"
      ]
     },
     "metadata": {
      "needs_background": "light"
     },
     "output_type": "display_data"
    }
   ],
   "source": [
    "plt.scatter(x,yn)"
   ]
  },
  {
   "cell_type": "code",
   "execution_count": 41,
   "metadata": {
    "slideshow": {
     "slide_type": "slide"
    }
   },
   "outputs": [],
   "source": [
    "class PolReg:\n",
    "    def __init__(self,x,y,d):\n",
    "        self.inputs = x\n",
    "        self.targets = y\n",
    "        \n",
    "        self.w = np.random.rand(d+1)        \n",
    "                         \n",
    "    \n",
    "    def update(self,theta):\n",
    "        self.w = theta\n",
    "        \n",
    "        return self.cost()\n",
    "    \n",
    "    def cost(self):\n",
    "                \n",
    "        preds = self.predictions()\n",
    "        \n",
    "        J = np.mean((self.targets - np.array(preds))**2)\n",
    "\n",
    "        return J\n",
    "    \n",
    "    def predictions(self,inp=None):\n",
    "        preds = []\n",
    "        if inp is None:\n",
    "            inp = self.inputs\n",
    "            \n",
    "        for i in inp:\n",
    "        \n",
    "            pred = np.poly1d(self.w)(i)\n",
    "            preds.append(pred)\n",
    "            \n",
    "        return preds\n",
    "\n",
    "    def fit(self):\n",
    "        param_init = self.w\n",
    "\n",
    "        res = opt.minimize(self.update,param_init)\n",
    "\n",
    "        return res\n",
    "\n"
   ]
  },
  {
   "cell_type": "code",
   "execution_count": 42,
   "metadata": {
    "slideshow": {
     "slide_type": "slide"
    }
   },
   "outputs": [
    {
     "data": {
      "text/plain": [
       "      fun: 0.2690502700761151\n",
       " hess_inv: array([[ 0.03962973, -0.24924336,  0.2320896 ],\n",
       "       [-0.24924336,  1.69273743, -1.84832383],\n",
       "       [ 0.2320896 , -1.84832383,  3.08743792]])\n",
       "      jac: array([-6.33299351e-07, -1.45286322e-07, -3.72529030e-08])\n",
       "  message: 'Optimization terminated successfully.'\n",
       "     nfev: 55\n",
       "      nit: 10\n",
       "     njev: 11\n",
       "   status: 0\n",
       "  success: True\n",
       "        x: array([ 0.0075148 , -0.26760376,  0.8797585 ])"
      ]
     },
     "execution_count": 42,
     "metadata": {},
     "output_type": "execute_result"
    }
   ],
   "source": [
    "p2 = PolReg(x,yn,2)\n",
    "p2.fit()"
   ]
  },
  {
   "cell_type": "code",
   "execution_count": 43,
   "metadata": {
    "scrolled": false,
    "slideshow": {
     "slide_type": "slide"
    }
   },
   "outputs": [
    {
     "data": {
      "text/plain": [
       "      fun: 0.013621780048396306\n",
       " hess_inv: array([[ 0.01400372, -0.13179121,  0.31329127, -0.11802036],\n",
       "       [-0.13179121,  1.27950171, -3.19302204,  1.33273954],\n",
       "       [ 0.31329127, -3.19302204,  8.65651117, -4.40211691],\n",
       "       [-0.11802036,  1.33273954, -4.40211691,  3.91380588]])\n",
       "      jac: array([-2.03028321e-07,  1.73132867e-06, -1.15926377e-06, -6.58666249e-06])\n",
       "  message: 'Optimization terminated successfully.'\n",
       "     nfev: 78\n",
       "      nit: 10\n",
       "     njev: 13\n",
       "   status: 0\n",
       "  success: True\n",
       "        x: array([ 0.08464096, -0.78980427,  1.63224071,  0.15508359])"
      ]
     },
     "execution_count": 43,
     "metadata": {},
     "output_type": "execute_result"
    }
   ],
   "source": [
    "p3 = PolReg(x,yn,3)\n",
    "p3.fit()"
   ]
  },
  {
   "cell_type": "code",
   "execution_count": 45,
   "metadata": {
    "slideshow": {
     "slide_type": "slide"
    }
   },
   "outputs": [
    {
     "data": {
      "image/png": "[encoded data removed]",
      "text/plain": [
       "<Figure size 720x288 with 2 Axes>"
      ]
     },
     "metadata": {
      "needs_background": "light"
     },
     "output_type": "display_data"
    }
   ],
   "source": [
    "x1 = np.linspace(0,6.28,100)\n",
    "plt.figure(figsize=(10,4))\n",
    "\n",
    "plt.subplot(121)\n",
    "plt.plot(x1,p2.predictions(x1))\n",
    "plt.scatter(x,yn,c='red')\n",
    "plt.title(f'f is quadratic, loss= {p2.cost():.4f}')\n",
    "\n",
    "plt.subplot(122)\n",
    "plt.plot(x1,p3.predictions(x1))\n",
    "plt.scatter(x,yn,c='red')\n",
    "plt.title(f'f is cubic, loss= {p3.cost():.4f}')\n",
    "\n",
    "plt.show()"
   ]
  },
  {
   "cell_type": "code",
   "execution_count": null,
   "metadata": {},
   "outputs": [],
   "source": []
  }
 ],
 "metadata": {
  "celltoolbar": "Slideshow",
  "kernelspec": {
   "display_name": "Python 3",
   "language": "python",
   "name": "python3"
  },
  "language_info": {
   "codemirror_mode": {
    "name": "ipython",
    "version": 3
   },
   "file_extension": ".py",
   "mimetype": "text/x-python",
   "name": "python",
   "nbconvert_exporter": "python",
   "pygments_lexer": "ipython3",
   "version": "3.7.3"
  }
 },
 "nbformat": 4,
 "nbformat_minor": 4
}
