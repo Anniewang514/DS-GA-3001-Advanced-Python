{
 "cells": [
  {
   "cell_type": "markdown",
   "metadata": {
    "slideshow": {
     "slide_type": "slide"
    }
   },
   "source": [
    "## Lab2: Performance Tuning\n"
   ]
  },
  {
   "cell_type": "markdown",
   "metadata": {
    "slideshow": {
     "slide_type": "slide"
    }
   },
   "source": [
    "### Timing python code"
   ]
  },
  {
   "cell_type": "code",
   "execution_count": 6,
   "metadata": {},
   "outputs": [
    {
     "name": "stdout",
     "output_type": "stream",
     "text": [
      "150 ns ± 34.3 ns per loop (mean ± std. dev. of 7 runs, 10 loops each)\n"
     ]
    }
   ],
   "source": [
    "import timeit\n",
    "import numpy as np\n",
    "from math import log10 as lg10\n",
    "import matplotlib.pyplot as plt\n",
    "\n",
    "def f(x):\n",
    "    return x * x\n",
    "\n",
    "%timeit -n 10 f(3) \n",
    "#can only use it in the jupyter not python code"
   ]
  },
  {
   "cell_type": "code",
   "execution_count": 7,
   "metadata": {
    "slideshow": {
     "slide_type": "slide"
    }
   },
   "outputs": [
    {
     "name": "stdout",
     "output_type": "stream",
     "text": [
      "3.4360000427113847e-07 sec per loop\n"
     ]
    }
   ],
   "source": [
    "# in the actual python code, \n",
    "# put the code in the ''' '''\n",
    "mycode = ''' \n",
    "def f(x): \n",
    "    return x*x \n",
    "f(x_val)\n",
    "'''\n",
    "#we have to parse in global in order for the mycode \n",
    "#to recognize the x_vale =3\n",
    "x_val = 3\n",
    "total_time = timeit.timeit(mycode, number = 10, globals=globals())\n",
    "print(f'{total_time/10} sec per loop')"
   ]
  },
  {
   "cell_type": "markdown",
   "metadata": {
    "slideshow": {
     "slide_type": "slide"
    }
   },
   "source": [
    "### Data Structure Choice: Membership Testing"
   ]
  },
  {
   "cell_type": "markdown",
   "metadata": {},
   "source": [
    "### List\n",
    "\n",
    "- Searching for an element in list takes O(N)"
   ]
  },
  {
   "cell_type": "code",
   "execution_count": 8,
   "metadata": {
    "slideshow": {
     "slide_type": "slide"
    }
   },
   "outputs": [
    {
     "name": "stdout",
     "output_type": "stream",
     "text": [
      "['AAA', 'AAS', 'AAD', 'AAF', 'AAG', 'AAH', 'AAJ', 'AAK', 'AAL', 'AAQ']\n",
      "11.5 µs ± 1.65 µs per loop (mean ± std. dev. of 7 runs, 100 loops each)\n",
      "232 µs ± 24.2 µs per loop (mean ± std. dev. of 7 runs, 100 loops each)\n"
     ]
    }
   ],
   "source": [
    "letters = 'ASDFGHJKLQWERTYUIOPZXCVBNM'\n",
    "\n",
    "letters_list = [x + y + z for x in letters for y in letters for z in letters]\n",
    "\n",
    "print(letters_list[:10])\n",
    "# note that ABC is not the first element but AAA\n",
    "\n",
    "%timeit -n 100 'ABC' in letters_list \n",
    "\n",
    "%timeit -n 100 'PQR' in letters_list"
   ]
  },
  {
   "cell_type": "code",
   "execution_count": 22,
   "metadata": {
    "slideshow": {
     "slide_type": "slide"
    }
   },
   "outputs": [],
   "source": [
    "import matplotlib.pyplot as plt\n",
    "\n",
    "mycode = '''\n",
    "def check_membership(elem):\n",
    "    return elem in numbers_list\n",
    "check_membership(i)\n",
    "'''\n",
    "times = []\n",
    "for i in range(1,100000,10):\n",
    "    numbers_list = np.random.randint(0, i, i)\n",
    "    total_time = timeit.timeit(mycode, number = 5, globals=globals())\n",
    "    \n",
    "    times.append(total_time / 5)\n",
    "    "
   ]
  },
  {
   "cell_type": "markdown",
   "metadata": {
    "slideshow": {
     "slide_type": "-"
    }
   },
   "source": [
    "np.random.randint(low, high, size)"
   ]
  },
  {
   "cell_type": "code",
   "execution_count": null,
   "metadata": {
    "slideshow": {
     "slide_type": "slide"
    }
   },
   "outputs": [],
   "source": [
    "plt.plot(times)\n",
    "plt.xlabel('Size of the list')\n",
    "plt.ylabel('Lookup time')\n",
    "plt.show()"
   ]
  },
  {
   "cell_type": "markdown",
   "metadata": {
    "slideshow": {
     "slide_type": "slide"
    }
   },
   "source": [
    "### Dictionary\n",
    "- Dictionaries are implemented as a Hash table, which hash the key\n",
    "- _Dicts_ and _sets_ are fast when looking up elements. \n",
    "- Insert, search and delete operations are O(1)\n",
    "\n"
   ]
  },
  {
   "cell_type": "code",
   "execution_count": null,
   "metadata": {
    "slideshow": {
     "slide_type": "slide"
    }
   },
   "outputs": [],
   "source": [
    "letters_dict = {x: x for x in letters_list}\n",
    "# Time how long it takes to find ‘abc’ and 'pqr'in letters_dict.\n",
    "\n",
    "print('in dict')\n",
    "%timeit -n 100 'ABC' in letters_dict\n",
    "%timeit -n 100 'PQR' in letters_dict"
   ]
  },
  {
   "cell_type": "code",
   "execution_count": 20,
   "metadata": {
    "slideshow": {
     "slide_type": "slide"
    }
   },
   "outputs": [],
   "source": [
    "mycode = '''\n",
    "def check_membership(elem):\n",
    "    return elem in numbers_dict\n",
    "check_membership(i)\n",
    "'''\n",
    "times = []\n",
    "for i in range(1,10000,10):\n",
    "#     print(i)\n",
    "    numbers_list = np.random.randint(0,i,i)\n",
    "    numbers_dict = {k:k for k in numbers_list}\n",
    "    total_time = timeit.timeit(mycode, number = 10, globals=globals())\n",
    "    \n",
    "    times.append(total_time/10)\n",
    "    "
   ]
  },
  {
   "cell_type": "code",
   "execution_count": 19,
   "metadata": {},
   "outputs": [
    {
     "data": {
      "text/plain": [
       "[0, 1, 2, 3, 4, 5, 6, 7, 8, 9]"
      ]
     },
     "execution_count": 19,
     "metadata": {},
     "output_type": "execute_result"
    }
   ],
   "source": [
    "# list(range(0,10))"
   ]
  },
  {
   "cell_type": "code",
   "execution_count": 21,
   "metadata": {
    "slideshow": {
     "slide_type": "slide"
    }
   },
   "outputs": [
    {
     "data": {
      "text/plain": [
       "Text(0, 0.5, 'Lookup time')"
      ]
     },
     "execution_count": 21,
     "metadata": {},
     "output_type": "execute_result"
    },
    {
     "data": {
      "image/png": "[encoded data removed]",
      "text/plain": [
       "<Figure size 432x288 with 1 Axes>"
      ]
     },
     "metadata": {
      "needs_background": "light"
     },
     "output_type": "display_data"
    }
   ],
   "source": [
    "plt.plot(times)\n",
    "plt.xlabel('Size of the dictionary')\n",
    "plt.ylabel('Lookup time')"
   ]
  },
  {
   "cell_type": "markdown",
   "metadata": {
    "slideshow": {
     "slide_type": "slide"
    }
   },
   "source": [
    "### Function Choice: String Concatenation"
   ]
  },
  {
   "cell_type": "markdown",
   "metadata": {},
   "source": [
    "- Python strings are immutable.\n",
    "- str1 + str2 creates a new string.\n",
    "- This copying can lead to significant slowdown"
   ]
  },
  {
   "cell_type": "code",
   "execution_count": 13,
   "metadata": {
    "slideshow": {
     "slide_type": "slide"
    }
   },
   "outputs": [],
   "source": [
    "def method1():\n",
    "    out_str = ''\n",
    "    global loop_count\n",
    "    for num in range(loop_count):\n",
    "        out_str += 'num'\n",
    "    return out_str #you actually create a new string\n",
    "\n",
    "def method2():\n",
    "    str_list = []\n",
    "    global loop_count\n",
    "    for num in range(loop_count):\n",
    "        str_list.append('num')\n",
    "    return ''.join(str_list)\n",
    "\n",
    "def method3():\n",
    "    global loop_count\n",
    "    return ''.join(['num' for i in range(loop_count)])\n"
   ]
  },
  {
   "cell_type": "code",
   "execution_count": 14,
   "metadata": {
    "slideshow": {
     "slide_type": "slide"
    }
   },
   "outputs": [
    {
     "name": "stdout",
     "output_type": "stream",
     "text": [
      "18.8 ms ± 710 µs per loop (mean ± std. dev. of 7 runs, 10 loops each)\n",
      "10.8 ms ± 493 µs per loop (mean ± std. dev. of 7 runs, 10 loops each)\n",
      "5.87 ms ± 435 µs per loop (mean ± std. dev. of 7 runs, 10 loops each)\n"
     ]
    }
   ],
   "source": [
    "loop_count = 100000\n",
    "\n",
    "%timeit -n 10 method1()\n",
    "%timeit -n 10 method2()\n",
    "%timeit -n 10 method3()"
   ]
  },
  {
   "cell_type": "markdown",
   "metadata": {
    "slideshow": {
     "slide_type": "slide"
    }
   },
   "source": [
    "### Optimizing loops\n",
    "\n",
    "- Avoid for loops, use map or numpy operations\n",
    "- Numpy is faster due to vectorized implementations\n",
    "\n",
    "Multiply two 1000x1000 matrices"
   ]
  },
  {
   "cell_type": "code",
   "execution_count": null,
   "metadata": {
    "slideshow": {
     "slide_type": "slide"
    }
   },
   "outputs": [],
   "source": [
    "N = 100\n",
    "arr1 = np.random.random((N,N))\n",
    "arr2 = np.random.random((N,N))"
   ]
  },
  {
   "cell_type": "markdown",
   "metadata": {
    "slideshow": {
     "slide_type": "slide"
    }
   },
   "source": [
    "### How fast is  For loop ?"
   ]
  },
  {
   "cell_type": "code",
   "execution_count": null,
   "metadata": {
    "slideshow": {
     "slide_type": "slide"
    }
   },
   "outputs": [],
   "source": [
    "%%timeit -n 1\n",
    "\n",
    "def multiply(x,y):\n",
    "\n",
    "    m1,n1 = x.shape\n",
    "    m2,n2 = y.shape\n",
    "    \n",
    "    assert(n1 == m2)\n",
    "    z = np.zeros((m1,n2))\n",
    "\n",
    "    for i in range(m1): \n",
    "        for j in range(n2): \n",
    "            for k in range(m2): \n",
    "                z[i][j] += x[i][k] * y[k][j]\n",
    "                \n",
    "    return z\n",
    "\n",
    "multiply(arr1, arr2)"
   ]
  },
  {
   "cell_type": "markdown",
   "metadata": {
    "slideshow": {
     "slide_type": "slide"
    }
   },
   "source": [
    "### How fast is numpy?"
   ]
  },
  {
   "cell_type": "code",
   "execution_count": null,
   "metadata": {
    "slideshow": {
     "slide_type": "slide"
    }
   },
   "outputs": [],
   "source": [
    "%%timeit -n 1\n",
    "\n",
    "def mod_multiply(x,y):\n",
    "    \"\"\"\n",
    "    Multiply two arrays using numpy.\n",
    "    \"\"\"\n",
    "    return np.matmul(x,y)\n",
    "\n",
    "mod_multiply(arr1, arr2)"
   ]
  },
  {
   "cell_type": "markdown",
   "metadata": {
    "slideshow": {
     "slide_type": "slide"
    }
   },
   "source": [
    "### Decorators\n",
    "\n",
    "In Python, functions are the first class objects, which means that:\n",
    "\n",
    "- Functions are objects; they can be referenced to, passed to a variable and returned from other functions as well.\n",
    "\n",
    "- Functions are taken as the argument into another function and then called inside the wrapper function.\n"
   ]
  },
  {
   "cell_type": "code",
   "execution_count": 1,
   "metadata": {
    "slideshow": {
     "slide_type": "slide"
    }
   },
   "outputs": [
    {
     "name": "stdout",
     "output_type": "stream",
     "text": [
      "Something is happening before the function is called.\n",
      "Whee!\n",
      "Something is happening after the function is called.\n"
     ]
    }
   ],
   "source": [
    "# defining a decorator, pass in \"func\", return \"wrapper\"\n",
    "\n",
    "def my_decorator(func):\n",
    "    \n",
    "    def wrapper():\n",
    "        print(\"Something is happening before the function is called.\")\n",
    "        func()\n",
    "        print(\"Something is happening after the function is called.\")\n",
    "    return wrapper\n",
    "\n",
    "def say_whee():\n",
    "    print(\"Whee!\")\n",
    "\n",
    "say_whee = my_decorator(say_whee)\n",
    "say_whee()"
   ]
  },
  {
   "cell_type": "code",
   "execution_count": null,
   "metadata": {
    "slideshow": {
     "slide_type": "slide"
    }
   },
   "outputs": [],
   "source": [
    "@my_decorator\n",
    "def say_whee():\n",
    "    print(\"Whee!\")\n",
    "say_whee()"
   ]
  },
  {
   "cell_type": "markdown",
   "metadata": {
    "slideshow": {
     "slide_type": "slide"
    }
   },
   "source": [
    "### Caching with decorators\n",
    "\n",
    "- Decorators can be used to cache intermediate values\n",
    "- Can be used to avoid repeated calculations (dynamic programming)"
   ]
  },
  {
   "cell_type": "code",
   "execution_count": 2,
   "metadata": {
    "slideshow": {
     "slide_type": "slide"
    }
   },
   "outputs": [],
   "source": [
    "def fib(i):\n",
    "    if i < 2: return 1\n",
    "    return fib(i-1) + fib(i-2)\n",
    "\n",
    "def cache_fib(f): \n",
    "    memory = {} \n",
    "  \n",
    "    # This inner function has access to memory \n",
    "    # and 'f' \n",
    "    def inner(num): \n",
    "        if num not in memory:          \n",
    "            memory[num] = f(num) \n",
    "        return memory[num] \n",
    "  \n",
    "    return inner \n",
    "#when you use cache, every time you run it, it creates a new memory for it\n",
    "@cache_fib\n",
    "def better_fib(i):\n",
    "    if i < 2: return 1\n",
    "    return better_fib(i-1) + better_fib(i-2)\n"
   ]
  },
  {
   "cell_type": "code",
   "execution_count": 3,
   "metadata": {
    "slideshow": {
     "slide_type": "slide"
    }
   },
   "outputs": [
    {
     "name": "stdout",
     "output_type": "stream",
     "text": [
      "411 ms ± 25.4 ms per loop (mean ± std. dev. of 7 runs, 1 loop each)\n"
     ]
    }
   ],
   "source": [
    "%timeit -n 1 fib(30)\n"
   ]
  },
  {
   "cell_type": "code",
   "execution_count": 4,
   "metadata": {},
   "outputs": [
    {
     "name": "stdout",
     "output_type": "stream",
     "text": [
      "The slowest run took 145.12 times longer than the fastest. This could mean that an intermediate result is being cached.\n",
      "13.4 µs ± 31 µs per loop (mean ± std. dev. of 7 runs, 1 loop each)\n"
     ]
    }
   ],
   "source": [
    "%timeit -n 1 better_fib(30)"
   ]
  },
  {
   "cell_type": "code",
   "execution_count": 5,
   "metadata": {},
   "outputs": [
    {
     "name": "stdout",
     "output_type": "stream",
     "text": [
      "The slowest run took 68.73 times longer than the fastest. This could mean that an intermediate result is being cached.\n",
      "3.15 µs ± 6.91 µs per loop (mean ± std. dev. of 7 runs, 1 loop each)\n"
     ]
    }
   ],
   "source": [
    "from functools import lru_cache\n",
    "\n",
    "@lru_cache(maxsize=128) #if you set maxsize is none, it will grow indefinitely\n",
    "def better_fib(i):\n",
    "    if i < 2: return 1\n",
    "    return better_fib(i-1) + better_fib(i-2)\n",
    "\n",
    "%timeit -n 1 better_fib(30)"
   ]
  },
  {
   "cell_type": "code",
   "execution_count": 6,
   "metadata": {},
   "outputs": [],
   "source": [
    "@lru_cache?"
   ]
  },
  {
   "cell_type": "code",
   "execution_count": null,
   "metadata": {},
   "outputs": [],
   "source": []
  },
  {
   "cell_type": "code",
   "execution_count": null,
   "metadata": {},
   "outputs": [],
   "source": []
  }
 ],
 "metadata": {
  "celltoolbar": "Slideshow",
  "kernelspec": {
   "display_name": "Python 3",
   "language": "python",
   "name": "python3"
  },
  "language_info": {
   "codemirror_mode": {
    "name": "ipython",
    "version": 3
   },
   "file_extension": ".py",
   "mimetype": "text/x-python",
   "name": "python",
   "nbconvert_exporter": "python",
   "pygments_lexer": "ipython3",
   "version": "3.7.3"
  }
 },
 "nbformat": 4,
 "nbformat_minor": 4
}
