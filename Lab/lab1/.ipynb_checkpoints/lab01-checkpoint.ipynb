{
 "cells": [
  {
   "cell_type": "markdown",
   "metadata": {
    "extensions": {
     "jupyter_dashboards": {
      "version": 1,
      "views": {
       "grid_default": {
        "col": 0,
        "height": 5,
        "hidden": false,
        "row": 0,
        "width": 12
       },
       "report_default": {
        "hidden": false
       }
      }
     }
    },
    "slideshow": {
     "slide_type": "slide"
    }
   },
   "source": [
    "## About Me:\n",
    "```text\n",
    "Manikanta Srikar Yellapragada\n",
    "msy290@nyu.edu\n",
    "\n",
    "```"
   ]
  },
  {
   "cell_type": "markdown",
   "metadata": {
    "extensions": {
     "jupyter_dashboards": {
      "version": 1,
      "views": {
       "grid_default": {
        "col": 0,
        "height": 4,
        "hidden": false,
        "row": 5,
        "width": 12
       },
       "report_default": {
        "hidden": false
       }
      }
     }
    },
    "slideshow": {
     "slide_type": "slide"
    }
   },
   "source": [
    "## 1. Shell Script: Producing Reuseable Commands "
   ]
  },
  {
   "cell_type": "markdown",
   "metadata": {
    "slideshow": {
     "slide_type": "slide"
    }
   },
   "source": [
    "- `flightdelays.csv` - data set containing the arrival and departure details of all commercial flights in the US from 2007 \n",
    "- Check `flightdelays_with_header.csv` for headers\n",
    "    1. Column 15 - Departure delay\n",
    "    2. Column 17- Destination airport"
   ]
  },
  {
   "cell_type": "markdown",
   "metadata": {
    "slideshow": {
     "slide_type": "slide"
    }
   },
   "source": [
    "### e.g 0. parse a csv file (process_data.sh)\n",
    "```text\n",
    "#!/usr/bin/env bash \n",
    "\n",
    "# Tells OS that the script is in bash, you want scripts to be run with the user’s preferred tool, we use #!/usr/bin/env and your rpeferred complier\n",
    "\n",
    "echo \"Data Processing\"\n",
    "# To store the output of a command as a variable in bash:\n",
    "# var=$(command)\n",
    "\n",
    "echo -e \"The name of the file is:\" $1 \"\\n\"\n",
    "\n",
    "lines=$(wc -l < $1)\n",
    "echo -e \"The file has\" $lines \"lines\\n\"\n",
    "\n",
    "colnames=$(head -n 1 < $1)\n",
    "echo \"Column names are: \"\n",
    "echo $colnames\n",
    "```"
   ]
  },
  {
   "cell_type": "markdown",
   "metadata": {
    "slideshow": {
     "slide_type": "slide"
    }
   },
   "source": [
    "$1 is the first commandline argument. If you run ./asdf.sh a b c d e,\n",
    "then $1 will be a, $2 will be b, etc. In shells with functions, \n",
    "$1 may serve as the first function parameter, and so forth."
   ]
  },
  {
   "cell_type": "code",
   "execution_count": 2,
   "metadata": {
    "slideshow": {
     "slide_type": "slide"
    }
   },
   "outputs": [
    {
     "name": "stdout",
     "output_type": "stream",
     "text": [
      "Data Processing\r\n",
      "The name of the file is: flightdelays_with_header.csv \r\n",
      "\r\n",
      "The file has 494 lines\r\n",
      "\r\n",
      "Column names are: \r\n",
      "Year,Month,DayofMonth,DayOfWeek,DepTime,CRSDepTime,ArrTime,CRSArrTime,UniqueCarrier,FlightNum,TailNum,ActualElapsedTime,CRSElapsedTime,AirTime,ArrDelay,DepDelay,Origin,Dest,Distance,TaxiIn,TaxiOut,Cancelled,CancellationCode,Diverted,CarrierDelay,WeatherDelay,NASDelay,SecurityDelay,LateAircraftDelay\r\n"
     ]
    }
   ],
   "source": [
    "#To run:\n",
    "!bash process_data.sh flightdelays_with_header.csv "
   ]
  },
  {
   "cell_type": "markdown",
   "metadata": {
    "slideshow": {
     "slide_type": "slide"
    }
   },
   "source": [
    "### e.g 1. Calculate minimum, maximum delay in departure (delay.sh)\n",
    "\n",
    "```text\n",
    "#!/usr/bin/env bash \n",
    "\n",
    "echo -n \"Min delay: \"\n",
    "cut -d ',' -f 5 $1|sort -n|head -1\n",
    "\n",
    "echo -n \"Max delay: \"\n",
    "cut -d ',' -f 5 $1|sort -n|tail -1\n",
    "\n",
    "```"
   ]
  },
  {
   "cell_type": "code",
   "execution_count": 1,
   "metadata": {},
   "outputs": [
    {
     "name": "stdout",
     "output_type": "stream",
     "text": [
      "Min delay: 53\r\n",
      "Max delay: 2355\r\n"
     ]
    }
   ],
   "source": [
    "#To run:\n",
    "!bash delay.sh flightdelays.csv"
   ]
  },
  {
   "cell_type": "markdown",
   "metadata": {
    "extensions": {
     "jupyter_dashboards": {
      "version": 1,
      "views": {
       "grid_default": {
        "col": 0,
        "height": 11,
        "hidden": false,
        "row": 9,
        "width": 12
       },
       "report_default": {
        "hidden": false
       }
      }
     }
    },
    "slideshow": {
     "slide_type": "slide"
    }
   },
   "source": [
    "### e.g 2. Top 3 destination airports (by the number of arriving planes), unique airports (demoscript.sh)\n",
    "```text\n",
    "#!/usr/bin/env bash\n",
    "\n",
    "echo \"The top 3 airports:\"\n",
    "cut -d ',' -f 18 $1|sort |uniq -c |sort -n |tail -3\n",
    "# uniq -c (count)\n",
    "# Precede each output line with the count of the number \n",
    "# of times the line occurred in the input,\n",
    "# followed by a single space\n",
    "\n",
    "echo \"The number of unique airports:\"\n",
    "cut -d ',' -f 18 $1|sort |uniq |wc -l\n",
    "```"
   ]
  },
  {
   "cell_type": "code",
   "execution_count": 4,
   "metadata": {
    "extensions": {
     "jupyter_dashboards": {
      "version": 1,
      "views": {
       "grid_default": {
        "col": 0,
        "height": 5,
        "hidden": false,
        "row": 20,
        "width": 12
       },
       "report_default": {
        "hidden": false
       }
      }
     }
    },
    "slideshow": {
     "slide_type": "slide"
    }
   },
   "outputs": [
    {
     "name": "stdout",
     "output_type": "stream",
     "text": [
      "The top 3 airports:\r\n",
      "  19 PHX\r\n",
      "  24 ORD\r\n",
      "  37 ATL\r\n",
      "The number of unique airports:\r\n",
      "     122\r\n"
     ]
    }
   ],
   "source": [
    "#To run:\n",
    "!bash demoscript.sh flightdelays.csv"
   ]
  },
  {
   "cell_type": "markdown",
   "metadata": {
    "slideshow": {
     "slide_type": "slide"
    }
   },
   "source": [
    "### e.g 3. executing a python program with argments\n",
    "```text\n",
    "#!/bin/bash\n",
    "python greeting_arg.py -n $1 -g $2\n",
    "```"
   ]
  },
  {
   "cell_type": "code",
   "execution_count": 5,
   "metadata": {
    "slideshow": {
     "slide_type": "-"
    }
   },
   "outputs": [
    {
     "name": "stdout",
     "output_type": "stream",
     "text": [
      "Hello, Alice!\r\n"
     ]
    }
   ],
   "source": [
    "#To run:\n",
    "!bash python_shell.sh Alice Hello"
   ]
  },
  {
   "cell_type": "markdown",
   "metadata": {
    "extensions": {
     "jupyter_dashboards": {
      "version": 1,
      "views": {
       "grid_default": {
        "col": 0,
        "height": 9,
        "hidden": false,
        "row": 37,
        "width": 12
       },
       "report_default": {
        "hidden": false
       }
      }
     }
    },
    "slideshow": {
     "slide_type": "slide"
    }
   },
   "source": [
    "### e.g 4. executing program on a set of file (do-stats.sh)\n",
    "```text\n",
    "#!/usr/bin/env bash\n",
    "for datafile in \"$@\" # $@ in refers to all of a shell script's command-line arguments. $1 , $2 , etc.,\n",
    "                     # Place variables in quotes if the values might have spaces in them\n",
    "do\n",
    "    echo $datafile\n",
    "    bash goostats $datafile stats-$datafile\n",
    "done\n",
    "```"
   ]
  },
  {
   "cell_type": "code",
   "execution_count": 6,
   "metadata": {
    "extensions": {
     "jupyter_dashboards": {
      "version": 1,
      "views": {
       "grid_default": {
        "col": 0,
        "height": 5,
        "hidden": false,
        "row": 46,
        "width": 12
       },
       "report_default": {
        "hidden": false
       }
      }
     }
    },
    "slideshow": {
     "slide_type": "slide"
    }
   },
   "outputs": [
    {
     "name": "stdout",
     "output_type": "stream",
     "text": [
      "NENE01729A.txt\n",
      "NENE01729B.txt\n",
      "NENE01736A.txt\n",
      "NENE01751A.txt\n",
      "NENE01751B.txt\n",
      "NENE01812A.txt\n",
      "NENE01843A.txt\n"
     ]
    }
   ],
   "source": [
    "#To run:\n",
    "!bash do-stats.sh NENE*[AB].txt #starts with NENE and include either A or B in there"
   ]
  },
  {
   "cell_type": "markdown",
   "metadata": {
    "extensions": {
     "jupyter_dashboards": {
      "version": 1,
      "views": {
       "grid_default": {
        "col": 0,
        "height": 4,
        "hidden": false,
        "row": 60,
        "width": 12
       },
       "report_default": {
        "hidden": false
       }
      }
     }
    },
    "slideshow": {
     "slide_type": "slide"
    }
   },
   "source": [
    "## 2. Useful Shell Commands in Scrubbing Data"
   ]
  },
  {
   "cell_type": "markdown",
   "metadata": {
    "extensions": {
     "jupyter_dashboards": {
      "version": 1,
      "views": {
       "grid_default": {
        "col": 0,
        "height": 4,
        "hidden": false,
        "row": 64,
        "width": 12
       },
       "report_default": {
        "hidden": false
       }
      }
     }
    },
    "slideshow": {
     "slide_type": "slide"
    }
   },
   "source": [
    "### Get part of the file: head, sed, tail\n"
   ]
  },
  {
   "cell_type": "code",
   "execution_count": 7,
   "metadata": {
    "extensions": {
     "jupyter_dashboards": {
      "version": 1,
      "views": {
       "grid_default": {
        "col": 0,
        "height": 14,
        "hidden": false,
        "row": 68,
        "width": 12
       },
       "report_default": {
        "hidden": false
       }
      }
     }
    },
    "slideshow": {
     "slide_type": "fragment"
    }
   },
   "outputs": [
    {
     "name": "stdout",
     "output_type": "stream",
     "text": [
      "Line 1\r\n",
      "Line 2\r\n",
      "Line 3\r\n",
      "Line 4\r\n",
      "Line 5\r\n",
      "Line 6\r\n",
      "Line 7\r\n",
      "Line 8\r\n",
      "Line 9\r\n",
      "Line 10\r\n"
     ]
    }
   ],
   "source": [
    "!seq -f \"Line %g\" 10 | tee lines\n",
    "# tee: copies standard input to standard output\n",
    "# -f means formating\n",
    "#output is stored in lines\n",
    "# similar to > but tee will show the output in the terminal, when you use > it will only show up in the txt file"
   ]
  },
  {
   "cell_type": "code",
   "execution_count": 8,
   "metadata": {
    "slideshow": {
     "slide_type": "slide"
    }
   },
   "outputs": [
    {
     "name": "stdout",
     "output_type": "stream",
     "text": [
      "Line 1\r\n",
      "Line 2\r\n",
      "Line 3\r\n"
     ]
    }
   ],
   "source": [
    "!head -n 3 lines "
   ]
  },
  {
   "cell_type": "code",
   "execution_count": 9,
   "metadata": {
    "slideshow": {
     "slide_type": "fragment"
    }
   },
   "outputs": [
    {
     "name": "stdout",
     "output_type": "stream",
     "text": [
      "Line 1\r\n",
      "Line 2\r\n",
      "Line 3\r\n"
     ]
    }
   ],
   "source": [
    "!sed '4,10d' lines \n",
    "# sed 'm,nd' file, deleting lines\n",
    "# start line and end line"
   ]
  },
  {
   "cell_type": "code",
   "execution_count": 12,
   "metadata": {
    "slideshow": {
     "slide_type": "fragment"
    }
   },
   "outputs": [
    {
     "name": "stdout",
     "output_type": "stream",
     "text": [
      "Line 8\r\n",
      "Line 9\r\n",
      "Line 10\r\n"
     ]
    }
   ],
   "source": [
    "!tail -n 3 lines"
   ]
  },
  {
   "cell_type": "markdown",
   "metadata": {
    "extensions": {
     "jupyter_dashboards": {
      "version": 1,
      "views": {
       "grid_default": {
        "col": 0,
        "height": 4,
        "hidden": false,
        "row": 82,
        "width": 12
       },
       "report_default": {
        "hidden": false
       }
      }
     }
    },
    "slideshow": {
     "slide_type": "slide"
    }
   },
   "source": [
    "### Get part of file using pattern matching (grep)"
   ]
  },
  {
   "cell_type": "code",
   "execution_count": 11,
   "metadata": {
    "extensions": {
     "jupyter_dashboards": {
      "version": 1,
      "views": {
       "grid_default": {
        "col": 0,
        "height": 11,
        "hidden": false,
        "row": 86,
        "width": 12
       },
       "report_default": {
        "hidden": false
       }
      }
     }
    },
    "scrolled": true,
    "slideshow": {
     "slide_type": "slide"
    }
   },
   "outputs": [
    {
     "name": "stdout",
     "output_type": "stream",
     "text": [
      "CHAPTER I Down the Rabbit-Hole\n",
      "CHAPTER II The Pool of Tears\n",
      "CHAPTER III A Caucus-Race and a Long Tale\n",
      "CHAPTER IV. The Rabbit Sends in a Little Bill\n",
      "CHAPTER V Advice from a Caterpillar\n",
      "CHAPTER VI Pig and Pepper\n",
      "CHAPTER VII A Mad Tea-Party\n",
      "CHAPTER VIII The Queen's Croquet-Ground\n",
      "CHAPTER IX The Mock Turtle's Story\n",
      "CHAPTER X The Lobster Quadrille\n",
      "CHAPTER XI Who Stole the Tarts?\n",
      "CHAPTER XII Alice's Evidence\n",
      "\n",
      "CHAPTER II The Pool of Tears\n",
      "CHAPTER IV. The Rabbit Sends in a Little Bill\n",
      "CHAPTER VIII The Queen's Croquet-Ground\n",
      "CHAPTER IX The Mock Turtle's Story\n",
      "CHAPTER X The Lobster Quadrille\n"
     ]
    }
   ],
   "source": [
    "!grep -i chapter alice.txt # -i means case insensitive\n",
    "\n",
    "!echo\n",
    "!grep -E '^CHAPTER .* The' alice.txt #having the word the in there, .* any chr between CHapter and The\n",
    "# regular expression"
   ]
  },
  {
   "cell_type": "markdown",
   "metadata": {
    "extensions": {
     "jupyter_dashboards": {
      "version": 1,
      "views": {
       "grid_default": {
        "col": 0,
        "height": 4,
        "hidden": false,
        "row": 97,
        "width": 12
       },
       "report_default": {
        "hidden": false
       }
      }
     }
    },
    "slideshow": {
     "slide_type": "slide"
    }
   },
   "source": [
    "### Replacing and Deleting Values: tr"
   ]
  },
  {
   "cell_type": "code",
   "execution_count": 13,
   "metadata": {
    "extensions": {
     "jupyter_dashboards": {
      "version": 1,
      "views": {
       "grid_default": {
        "col": 0,
        "height": 4,
        "hidden": false,
        "row": 105,
        "width": 12
       },
       "report_default": {
        "hidden": false
       }
      }
     }
    },
    "slideshow": {
     "slide_type": "slide"
    }
   },
   "outputs": [
    {
     "name": "stdout",
     "output_type": "stream",
     "text": [
      "hello_world!\n",
      "hello_world?\n",
      "HELLO WORLD!\n"
     ]
    }
   ],
   "source": [
    "!echo 'hello world!' | tr ' ' '_'\n",
    "\n",
    "!echo 'hello world!' | tr ' !' '_?'\n",
    "\n",
    "!echo 'hello world!' | tr '[a-z]' '[A-Z]'"
   ]
  },
  {
   "cell_type": "markdown",
   "metadata": {
    "extensions": {
     "jupyter_dashboards": {
      "version": 1,
      "views": {
       "grid_default": {
        "col": 0,
        "height": 4,
        "hidden": false,
        "row": 109,
        "width": 12
       },
       "report_default": {
        "hidden": false
       }
      }
     }
    },
    "slideshow": {
     "slide_type": "slide"
    }
   },
   "source": [
    "## 3. Numpy and Pandas Review "
   ]
  },
  {
   "cell_type": "code",
   "execution_count": 15,
   "metadata": {
    "extensions": {
     "jupyter_dashboards": {
      "version": 1,
      "views": {
       "grid_default": {
        "hidden": true
       },
       "report_default": {
        "hidden": true
       }
      }
     }
    },
    "slideshow": {
     "slide_type": "slide"
    }
   },
   "outputs": [],
   "source": [
    "import numpy as np\n",
    "import pandas as pd"
   ]
  },
  {
   "cell_type": "code",
   "execution_count": 16,
   "metadata": {
    "extensions": {
     "jupyter_dashboards": {
      "version": 1,
      "views": {
       "grid_default": {
        "col": 0,
        "height": 5,
        "hidden": false,
        "row": 113,
        "width": 12
       },
       "report_default": {
        "hidden": false
       }
      }
     }
    },
    "slideshow": {
     "slide_type": "slide"
    }
   },
   "outputs": [
    {
     "name": "stdout",
     "output_type": "stream",
     "text": [
      "Shape of the array: (2, 3)\n",
      "Total number of elements: 6\n",
      "Dtype: int64\n",
      "Size in bytes: 8\n",
      "Buffer: <memory at 0x10ca2d630>\n"
     ]
    }
   ],
   "source": [
    "a = np.array([[1,2,3],[4,5,6]])\n",
    "#a tuple of integers indicating the shape of the array \n",
    "# in each dimension\n",
    "print('Shape of the array:', a.shape) \n",
    "#the total number of elements of the array\n",
    "print('Total number of elements:', a.size) \n",
    "# an object describing the type of the elements in the array\n",
    "print('Dtype:',a.dtype) \n",
    "print('Size in bytes:',a.itemsize) \n",
    "#the size in bytes of each element of the array\n",
    "print('Buffer:',a.data) \n",
    "#buffer pointing to the start of array"
   ]
  },
  {
   "cell_type": "code",
   "execution_count": 17,
   "metadata": {
    "extensions": {
     "jupyter_dashboards": {
      "version": 1,
      "views": {
       "grid_default": {
        "col": 0,
        "height": 10,
        "hidden": false,
        "row": 118,
        "width": 12
       },
       "report_default": {
        "hidden": false
       }
      }
     }
    },
    "slideshow": {
     "slide_type": "slide"
    }
   },
   "outputs": [
    {
     "name": "stdout",
     "output_type": "stream",
     "text": [
      "[[1. 1. 1.]\n",
      " [1. 1. 1.]\n",
      " [1. 1. 1.]]\n",
      "[[0. 0. 0.]\n",
      " [0. 0. 0.]\n",
      " [0. 0. 0.]]\n",
      "[[7 7]\n",
      " [7 7]]\n",
      "[[0.42875724 0.52312462 0.99503726]\n",
      " [0.64071305 0.01432647 0.89361976]\n",
      " [0.20445074 0.8059489  0.97447859]]\n"
     ]
    }
   ],
   "source": [
    "print(np.ones((3, 3))) # Create an array of all zeros\n",
    "print(np.zeros((3, 3))) # Create an array of all ones\n",
    "print(np.full((2,2), 7)) #Create a constant array\n",
    "print(np.random.rand(3, 3)) # Create an array filled with random values from [0,1)"
   ]
  },
  {
   "cell_type": "code",
   "execution_count": null,
   "metadata": {
    "extensions": {
     "jupyter_dashboards": {
      "version": 1,
      "views": {
       "grid_default": {
        "col": 0,
        "height": 4,
        "hidden": false,
        "row": 128,
        "width": 12
       },
       "report_default": {
        "hidden": false
       }
      }
     }
    },
    "slideshow": {
     "slide_type": "slide"
    }
   },
   "outputs": [],
   "source": [
    "#Array indexing:\n",
    "a = np.array([[1, 2, 3], [4, 5, 6]])\n",
    "print(a[:2, 1:],'\\n')\n",
    "print(a[0, 1])"
   ]
  },
  {
   "cell_type": "code",
   "execution_count": null,
   "metadata": {
    "extensions": {
     "jupyter_dashboards": {
      "version": 1,
      "views": {
       "grid_default": {
        "col": 0,
        "height": 4,
        "hidden": false,
        "row": 132,
        "width": 12
       },
       "report_default": {
        "hidden": false
       }
      }
     }
    },
    "slideshow": {
     "slide_type": "slide"
    }
   },
   "outputs": [],
   "source": [
    "x = np.arange(4).reshape((2,2))\n",
    "print(np.transpose(x)) #transposes matrix"
   ]
  },
  {
   "cell_type": "code",
   "execution_count": null,
   "metadata": {
    "extensions": {
     "jupyter_dashboards": {
      "version": 1,
      "views": {
       "grid_default": {
        "col": 0,
        "height": 4,
        "hidden": false,
        "row": 136,
        "width": 12
       },
       "report_default": {
        "hidden": false
       }
      }
     }
    },
    "slideshow": {
     "slide_type": "slide"
    }
   },
   "outputs": [],
   "source": [
    "#Assignment operation\n",
    "a = np.arange(12)\n",
    "b = a\n",
    "a[1] =5\n",
    "print('b:',b)\n",
    "#Creates a copy of the array\n",
    "c = np.copy(b)\n",
    "b[1] = -2;\n",
    "print('b:',b)\n",
    "print('c:',c)"
   ]
  },
  {
   "cell_type": "code",
   "execution_count": null,
   "metadata": {
    "extensions": {
     "jupyter_dashboards": {
      "version": 1,
      "views": {
       "grid_default": {
        "col": 0,
        "height": 5,
        "hidden": false,
        "row": 140,
        "width": 12
       },
       "report_default": {
        "hidden": false
       }
      }
     }
    },
    "slideshow": {
     "slide_type": "slide"
    }
   },
   "outputs": [],
   "source": [
    "index = ['a','b','c','d','e']\n",
    "series = pd.Series(np.random.randint(0,10,5), index=index) \n",
    "# One-dimensional ndarray with axis labels \n",
    "# (including time series)\n",
    "print(series)"
   ]
  },
  {
   "cell_type": "code",
   "execution_count": null,
   "metadata": {
    "extensions": {
     "jupyter_dashboards": {
      "version": 1,
      "views": {
       "grid_default": {
        "col": 0,
        "height": 6,
        "hidden": false,
        "row": 145,
        "width": 12
       },
       "report_default": {
        "hidden": false
       }
      }
     }
    },
    "slideshow": {
     "slide_type": "slide"
    }
   },
   "outputs": [],
   "source": [
    "print(series[['a', 'c']],'\\n') #how to access\n",
    "#Slicing\n",
    "print(series['b':'e'])"
   ]
  },
  {
   "cell_type": "code",
   "execution_count": null,
   "metadata": {},
   "outputs": [],
   "source": [
    "data = [['tom', 10], ['nick', 15], ['juli', 14]] \n",
    "df = pd.DataFrame(data, columns = ['Name', 'Age'])\n",
    "print(df)"
   ]
  },
  {
   "cell_type": "markdown",
   "metadata": {
    "extensions": {
     "jupyter_dashboards": {
      "version": 1,
      "views": {
       "grid_default": {
        "col": 0,
        "height": 8,
        "hidden": false,
        "row": 162,
        "width": 12
       },
       "report_default": {
        "hidden": false
       }
      }
     }
    },
    "slideshow": {
     "slide_type": "slide"
    }
   },
   "source": [
    "### References:\n",
    "[Introduction to shell script](https://data36.com/command-line-data-science-introduction-to-bash/)\n",
    "\n",
    "[Shebang for shell](https://scriptingosx.com/2017/10/on-the-shebang/)\n",
    "\n",
    "[More about scrubbing data o shell](https://www.datascienceatthecommandline.com/chapter-5-scrubbing-data.html)\n",
    "\n",
    "[Bash for pipelines](https://towardsdatascience.com/using-bash-for-data-pipelines-cf05af6ded6f)\n",
    "\n",
    "[More about scripts](https://www.macs.hw.ac.uk/~hwloidl/Courses/LinuxIntro/x961.html)\n",
    "[regular expression](https://en.wikipedia.org/wiki/Regular_expression)\n",
    "\n",
    "[Numpy tutorial](https://docs.scipy.org/doc/numpy/user/quickstart.html)"
   ]
  },
  {
   "cell_type": "markdown",
   "metadata": {},
   "source": [
    "# !/bin/ + any interpreter (this is the abosolute )\n",
    "for eample:\n",
    "#!/bin/bash\n",
    "#!/bin/sh\n",
    "#!/usr/bin/python"
   ]
  }
 ],
 "metadata": {
  "celltoolbar": "Slideshow",
  "extensions": {
   "jupyter_dashboards": {
    "activeView": "grid_default",
    "version": 1,
    "views": {
     "grid_default": {
      "cellMargin": 10,
      "defaultCellHeight": 20,
      "maxColumns": 12,
      "name": "grid",
      "type": "grid"
     },
     "report_default": {
      "name": "report",
      "type": "report"
     }
    }
   }
  },
  "kernelspec": {
   "display_name": "Python 3",
   "language": "python",
   "name": "python3"
  },
  "language_info": {
   "codemirror_mode": {
    "name": "ipython",
    "version": 3
   },
   "file_extension": ".py",
   "mimetype": "text/x-python",
   "name": "python",
   "nbconvert_exporter": "python",
   "pygments_lexer": "ipython3",
   "version": "3.7.3"
  }
 },
 "nbformat": 4,
 "nbformat_minor": 2
}
